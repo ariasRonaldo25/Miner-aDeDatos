{
 "cells": [
  {
   "cell_type": "markdown",
   "metadata": {},
   "source": [
    "<font color=Green>\n",
    "    \n",
    "# **1.4 Ingresar y leer datos en la BD**\n",
    "\n",
    "</font>\n",
    "\n",
    "### Para ingresar datos a una base de datos, primero debemos definir la estructura de la tabla que almacenará los datos.\n",
    "\n",
    "### `CREATE TABLE` es el comando para crear una tabla."
   ]
  },
  {
   "cell_type": "code",
   "execution_count": 6,
   "metadata": {},
   "outputs": [],
   "source": [
    "import sqlite3"
   ]
  },
  {
   "cell_type": "code",
   "execution_count": null,
   "metadata": {},
   "outputs": [],
   "source": [
    "conexion = sqlite3.connect(\"ejemplo.db\")\n",
    "cursor = conexion.cursor()\n",
    "\n",
    "# Creamos una tabla llamada Estudiantes\n",
    "cursor.execute(\"CREATE TABLE estudiantes (email VARCHAR(100), carrera VARCHAR(100), nombre VARCHAR(100), edad INTEGER)\")\n",
    "\n",
    "conexion.close()"
   ]
  },
  {
   "cell_type": "markdown",
   "metadata": {},
   "source": [
    "### `INSERT INTO` es el comando para ingresar datos."
   ]
  },
  {
   "cell_type": "code",
   "execution_count": 7,
   "metadata": {},
   "outputs": [],
   "source": [
    "conexion = sqlite3.connect(\"ejemplo.db\")\n",
    "cursor = conexion.cursor()\n",
    "\n",
    "# Insertamos un registro en la tabla\n",
    "cursor.execute(\"INSERT INTO estudiantes VALUES ('bluenote@googlemail.com','Artes','Sharon', 27)\")\n",
    "\n",
    "# Guardamos los cambios haciendo un commit\n",
    "conexion.commit()\n",
    "\n",
    "conexion.close()"
   ]
  },
  {
   "cell_type": "markdown",
   "metadata": {},
   "source": [
    "### `SELECT * FROM` es el comando para leer el contenido de una tabla."
   ]
  },
  {
   "cell_type": "code",
   "execution_count": 8,
   "metadata": {},
   "outputs": [
    {
     "name": "stdout",
     "output_type": "stream",
     "text": [
      "('bluenote@googlemail.com', 'Artes', 'Sharon', 27)\n"
     ]
    }
   ],
   "source": [
    "conexion = sqlite3.connect('ejemplo.db')\n",
    "cursor = conexion.cursor()\n",
    "\n",
    "# Seleccionamos todos los registros en la tabla\n",
    "cursor.execute(\"SELECT * FROM estudiantes\")\n",
    "\n",
    "usuarios = cursor.fetchone()\n",
    "print(usuarios)"
   ]
  },
  {
   "cell_type": "markdown",
   "metadata": {},
   "source": [
    "### También podemos ingresar y leer varios registros al mismo tiempo."
   ]
  },
  {
   "cell_type": "code",
   "execution_count": 9,
   "metadata": {},
   "outputs": [],
   "source": [
    "conexion = sqlite3.connect(\"ejemplo.db\")\n",
    "cursor = conexion.cursor()\n",
    "\n",
    "usuarios = [\n",
    "    ('parrillaexquisita@vip.com','Arquitectura','Giulia', 26),\n",
    "    ('lollipopbusiness@vip.com','Contaduría','Rosana', 60),\n",
    "    ('solfernandez@googlemail.com','Estadística','Sol', 30),\n",
    "    ('carlitos@googlemail.com','Computación','Carlos', 60),\n",
    "    ('imprentadetata@vip.com','Periodismo','Luciano', 21)\n",
    "]\n",
    "\n",
    "\n",
    "cursor.executemany(\"INSERT INTO estudiantes VALUES (?,?,?,?)\", usuarios)\n",
    "\n",
    "conexion.commit()\n",
    "\n",
    "conexion.close()"
   ]
  },
  {
   "cell_type": "code",
   "execution_count": 10,
   "metadata": {},
   "outputs": [
    {
     "name": "stdout",
     "output_type": "stream",
     "text": [
      "('bluenote@googlemail.com', 'Artes', 'Sharon', 27)\n",
      "('parrillaexquisita@vip.com', 'Arquitectura', 'Giulia', 26)\n",
      "('lollipopbusiness@vip.com', 'Contaduría', 'Rosana', 60)\n",
      "('solfernandez@googlemail.com', 'Estadística', 'Sol', 30)\n",
      "('carlitos@googlemail.com', 'Computación', 'Carlos', 60)\n",
      "('imprentadetata@vip.com', 'Periodismo', 'Luciano', 21)\n"
     ]
    }
   ],
   "source": [
    "conexion = sqlite3.connect('ejemplo.db')\n",
    "cursor = conexion.cursor()\n",
    "\n",
    "# Recuperamos los registros de la tabla\n",
    "cursor.execute(\"SELECT * FROM estudiantes\")\n",
    "\n",
    "usuarios = cursor.fetchall()\n",
    "\n",
    "#print(usuarios)\n",
    "\n",
    "for u in usuarios:\n",
    "    print(u)\n",
    "    \n",
    "conexion.close()"
   ]
  },
  {
   "cell_type": "code",
   "execution_count": null,
   "metadata": {},
   "outputs": [],
   "source": []
  }
 ],
 "metadata": {
  "kernelspec": {
   "display_name": "Python 3 (ipykernel)",
   "language": "python",
   "name": "python3"
  },
  "language_info": {
   "codemirror_mode": {
    "name": "ipython",
    "version": 3
   },
   "file_extension": ".py",
   "mimetype": "text/x-python",
   "name": "python",
   "nbconvert_exporter": "python",
   "pygments_lexer": "ipython3",
   "version": "3.9.7"
  }
 },
 "nbformat": 4,
 "nbformat_minor": 4
}
