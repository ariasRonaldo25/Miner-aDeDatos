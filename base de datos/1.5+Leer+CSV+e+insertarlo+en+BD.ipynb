{
 "cells": [
  {
   "cell_type": "markdown",
   "metadata": {},
   "source": [
    "<font color=Green>\n",
    "    \n",
    "# **1.5 Leer un CSV e insertarlo en la BD**\n",
    "\n",
    "</font>"
   ]
  },
  {
   "cell_type": "code",
   "execution_count": 1,
   "metadata": {
    "scrolled": true
   },
   "outputs": [
    {
     "name": "stdout",
     "output_type": "stream",
     "text": [
      "[('bluenote@googlemail.com', 'Artes', 'Sharon', 27), ('parrillaexquisita@vip.com', 'Arquitectura', 'Giulia', 26), ('lollipopbusiness@vip.com', 'Contaduría', 'Rosana', 60), ('solfernandez@googlemail.com', 'Estadística', 'Sol', 30), ('carlitos@googlemail.com', 'Computación', 'Carlos', 60), ('imprentadetata@vip.com', 'Periodismo', 'Luciano', 21), ('paella@vip.com', 'Medicina', 'Giuliana', 27), ('crimewave@vip.com', 'Derecho', 'Alicia', 20), ('prince@orange.com', 'Ingenieria', 'William', 24), ('elrisortdewelini@vip.com', 'Nutrición', 'Chefsito', 25), ('planb@vip.com', 'Artes', 'Chencho', 30), ('channel@boyz.com', 'Letras', 'Frank', 32), ('vinos@aouju.com', 'Nutrición', 'Eugenia', 23)]\n"
     ]
    }
   ],
   "source": [
    "import sqlite3\n",
    "import csv\n",
    "\n",
    "conexion = sqlite3.connect(r\"C:\\Users\\Ronaldo Arias\\Desktop\\base de datos\\ejemplo.db\")\n",
    "cursor = conexion.cursor()\n",
    "\n",
    "archivo = open(r\"C:\\Users\\Ronaldo Arias\\Desktop\\base de datos\\datos_db.txt\")\n",
    "\n",
    "filas = csv.reader(archivo)\n",
    "\n",
    "cursor.executemany(\"INSERT INTO estudiantes VALUES (?,?,?,?)\", filas)\n",
    "\n",
    "cursor.execute(\"SELECT * FROM estudiantes\")\n",
    "\n",
    "print(cursor.fetchall())\n",
    "\n",
    "conexion.commit()\n",
    "conexion.close()"
   ]
  },
  {
   "cell_type": "code",
   "execution_count": null,
   "metadata": {},
   "outputs": [],
   "source": []
  }
 ],
 "metadata": {
  "kernelspec": {
   "display_name": "Python 3 (ipykernel)",
   "language": "python",
   "name": "python3"
  },
  "language_info": {
   "codemirror_mode": {
    "name": "ipython",
    "version": 3
   },
   "file_extension": ".py",
   "mimetype": "text/x-python",
   "name": "python",
   "nbconvert_exporter": "python",
   "pygments_lexer": "ipython3",
   "version": "3.9.7"
  }
 },
 "nbformat": 4,
 "nbformat_minor": 4
}
