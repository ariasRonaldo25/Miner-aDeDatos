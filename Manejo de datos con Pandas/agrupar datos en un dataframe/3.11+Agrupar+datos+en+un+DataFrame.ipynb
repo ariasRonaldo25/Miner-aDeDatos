{
 "cells": [
  {
   "cell_type": "markdown",
   "metadata": {},
   "source": [
    "<font color=Green>\n",
    "    \n",
    "# **3.11 Agrupar datos**\n",
    "\n",
    "</font>"
   ]
  },
  {
   "cell_type": "code",
   "execution_count": 1,
   "metadata": {},
   "outputs": [],
   "source": [
    "import numpy as np\n",
    "import pandas as pd"
   ]
  },
  {
   "cell_type": "code",
   "execution_count": 2,
   "metadata": {},
   "outputs": [
    {
     "data": {
      "text/html": [
       "<div>\n",
       "<style scoped>\n",
       "    .dataframe tbody tr th:only-of-type {\n",
       "        vertical-align: middle;\n",
       "    }\n",
       "\n",
       "    .dataframe tbody tr th {\n",
       "        vertical-align: top;\n",
       "    }\n",
       "\n",
       "    .dataframe thead th {\n",
       "        text-align: right;\n",
       "    }\n",
       "</style>\n",
       "<table border=\"1\" class=\"dataframe\">\n",
       "  <thead>\n",
       "    <tr style=\"text-align: right;\">\n",
       "      <th></th>\n",
       "      <th>fecha</th>\n",
       "      <th>duracion</th>\n",
       "      <th>item</th>\n",
       "      <th>mes</th>\n",
       "      <th>red</th>\n",
       "      <th>tipo_red</th>\n",
       "    </tr>\n",
       "    <tr>\n",
       "      <th>indice</th>\n",
       "      <th></th>\n",
       "      <th></th>\n",
       "      <th></th>\n",
       "      <th></th>\n",
       "      <th></th>\n",
       "      <th></th>\n",
       "    </tr>\n",
       "  </thead>\n",
       "  <tbody>\n",
       "    <tr>\n",
       "      <th>0</th>\n",
       "      <td>2014-10-15 06:58:00</td>\n",
       "      <td>34.429</td>\n",
       "      <td>data</td>\n",
       "      <td>2014-11</td>\n",
       "      <td>data</td>\n",
       "      <td>data</td>\n",
       "    </tr>\n",
       "    <tr>\n",
       "      <th>1</th>\n",
       "      <td>2014-10-15 06:58:00</td>\n",
       "      <td>13.000</td>\n",
       "      <td>call</td>\n",
       "      <td>2014-11</td>\n",
       "      <td>Vodafone</td>\n",
       "      <td>mobile</td>\n",
       "    </tr>\n",
       "    <tr>\n",
       "      <th>2</th>\n",
       "      <td>2014-10-15 14:46:00</td>\n",
       "      <td>23.000</td>\n",
       "      <td>call</td>\n",
       "      <td>2014-11</td>\n",
       "      <td>Meteor</td>\n",
       "      <td>mobile</td>\n",
       "    </tr>\n",
       "    <tr>\n",
       "      <th>3</th>\n",
       "      <td>2014-10-15 14:48:00</td>\n",
       "      <td>4.000</td>\n",
       "      <td>call</td>\n",
       "      <td>2014-11</td>\n",
       "      <td>Tesco</td>\n",
       "      <td>mobile</td>\n",
       "    </tr>\n",
       "    <tr>\n",
       "      <th>4</th>\n",
       "      <td>2014-10-15 17:27:00</td>\n",
       "      <td>4.000</td>\n",
       "      <td>call</td>\n",
       "      <td>2014-11</td>\n",
       "      <td>Tesco</td>\n",
       "      <td>mobile</td>\n",
       "    </tr>\n",
       "  </tbody>\n",
       "</table>\n",
       "</div>"
      ],
      "text/plain": [
       "                     fecha  duracion  item      mes       red tipo_red\n",
       "indice                                                                \n",
       "0      2014-10-15 06:58:00    34.429  data  2014-11      data     data\n",
       "1      2014-10-15 06:58:00    13.000  call  2014-11  Vodafone   mobile\n",
       "2      2014-10-15 14:46:00    23.000  call  2014-11    Meteor   mobile\n",
       "3      2014-10-15 14:48:00     4.000  call  2014-11     Tesco   mobile\n",
       "4      2014-10-15 17:27:00     4.000  call  2014-11     Tesco   mobile"
      ]
     },
     "execution_count": 2,
     "metadata": {},
     "output_type": "execute_result"
    }
   ],
   "source": [
    "data = pd.read_csv(r'C:\\Users\\Ronaldo Arias\\Desktop\\Manejo de datos con Pandas\\agrupar datos en un dataframe\\data_celular.csv',\n",
    "                   header=0,\n",
    "                   index_col=0,\n",
    "                   names=['indice', 'fecha','duracion','item','mes','red','tipo_red'],\n",
    "                   parse_dates=['fecha'])\n",
    "data.head()"
   ]
  },
  {
   "cell_type": "markdown",
   "metadata": {},
   "source": [
    "### Podemos obtener información básica seleccionando columnas y aplicando alguna de las operaciones que ya conocemos."
   ]
  },
  {
   "cell_type": "code",
   "execution_count": 3,
   "metadata": {},
   "outputs": [
    {
     "name": "stdout",
     "output_type": "stream",
     "text": [
      "Cuántas filas tiene el DataFrame: \n",
      "830\n"
     ]
    }
   ],
   "source": [
    "print('Cuántas filas tiene el DataFrame: ')\n",
    "print(data['item'].count())"
   ]
  },
  {
   "cell_type": "code",
   "execution_count": 4,
   "metadata": {},
   "outputs": [
    {
     "name": "stdout",
     "output_type": "stream",
     "text": [
      "El tiempo total (en segundos) registrado en llamadas es:\n",
      "92321.0\n"
     ]
    }
   ],
   "source": [
    "print('El tiempo total (en segundos) registrado en llamadas es:')\n",
    "\n",
    "\n",
    "print(data['duracion'][data['item'] == 'call'].sum())"
   ]
  },
  {
   "cell_type": "code",
   "execution_count": 5,
   "metadata": {},
   "outputs": [
    {
     "name": "stdout",
     "output_type": "stream",
     "text": [
      "Con cuántas redes telefónicas se contactó en el período de 2014/11 al 2015/03: \n",
      "9\n"
     ]
    }
   ],
   "source": [
    "print('Con cuántas redes telefónicas se contactó en el período de 2014/11 al 2015/03: ')\n",
    "print(data['red'].nunique())"
   ]
  },
  {
   "cell_type": "markdown",
   "metadata": {},
   "source": [
    "## <font color=#003d5c> _.groupby()_ </font>\n",
    "### Este método nos permite agrupar nuestros datos para obtener información segregada."
   ]
  },
  {
   "cell_type": "code",
   "execution_count": 6,
   "metadata": {},
   "outputs": [
    {
     "data": {
      "text/plain": [
       "<pandas.core.groupby.generic.DataFrameGroupBy object at 0x0000016F263DC6D0>"
      ]
     },
     "execution_count": 6,
     "metadata": {},
     "output_type": "execute_result"
    }
   ],
   "source": [
    "data.groupby('mes')"
   ]
  },
  {
   "cell_type": "code",
   "execution_count": 7,
   "metadata": {},
   "outputs": [
    {
     "data": {
      "text/plain": [
       "dict_values([Int64Index([  0,   1,   2,   3,   4,   5,   6,   7,   8,   9,\n",
       "            ...\n",
       "            220, 221, 222, 223, 224, 225, 226, 227, 229, 230],\n",
       "           dtype='int64', name='indice', length=230), Int64Index([228, 231, 232, 233, 234, 235, 236, 237, 238, 239,\n",
       "            ...\n",
       "            377, 378, 379, 380, 382, 383, 384, 385, 387, 388],\n",
       "           dtype='int64', name='indice', length=157), Int64Index([381, 386, 389, 390, 391, 392, 393, 394, 395, 396,\n",
       "            ...\n",
       "            583, 584, 585, 587, 588, 589, 590, 591, 592, 593],\n",
       "           dtype='int64', name='indice', length=205), Int64Index([577, 586, 594, 595, 596, 597, 598, 599, 600, 601,\n",
       "            ...\n",
       "            719, 720, 721, 722, 723, 724, 725, 726, 727, 728],\n",
       "           dtype='int64', name='indice', length=137), Int64Index([729, 730, 731, 732, 733, 734, 735, 736, 737, 738,\n",
       "            ...\n",
       "            820, 821, 822, 823, 824, 825, 826, 827, 828, 829],\n",
       "           dtype='int64', name='indice', length=101)])"
      ]
     },
     "execution_count": 7,
     "metadata": {},
     "output_type": "execute_result"
    }
   ],
   "source": [
    "data.groupby('mes').groups.values()"
   ]
  },
  {
   "cell_type": "code",
   "execution_count": 8,
   "metadata": {},
   "outputs": [
    {
     "data": {
      "text/html": [
       "<div>\n",
       "<style scoped>\n",
       "    .dataframe tbody tr th:only-of-type {\n",
       "        vertical-align: middle;\n",
       "    }\n",
       "\n",
       "    .dataframe tbody tr th {\n",
       "        vertical-align: top;\n",
       "    }\n",
       "\n",
       "    .dataframe thead th {\n",
       "        text-align: right;\n",
       "    }\n",
       "</style>\n",
       "<table border=\"1\" class=\"dataframe\">\n",
       "  <thead>\n",
       "    <tr style=\"text-align: right;\">\n",
       "      <th></th>\n",
       "      <th>duracion</th>\n",
       "    </tr>\n",
       "    <tr>\n",
       "      <th>mes</th>\n",
       "      <th></th>\n",
       "    </tr>\n",
       "  </thead>\n",
       "  <tbody>\n",
       "    <tr>\n",
       "      <th>2014-11</th>\n",
       "      <td>26639.441</td>\n",
       "    </tr>\n",
       "    <tr>\n",
       "      <th>2014-12</th>\n",
       "      <td>14641.870</td>\n",
       "    </tr>\n",
       "    <tr>\n",
       "      <th>2015-01</th>\n",
       "      <td>18223.299</td>\n",
       "    </tr>\n",
       "    <tr>\n",
       "      <th>2015-02</th>\n",
       "      <td>15522.299</td>\n",
       "    </tr>\n",
       "    <tr>\n",
       "      <th>2015-03</th>\n",
       "      <td>22750.441</td>\n",
       "    </tr>\n",
       "  </tbody>\n",
       "</table>\n",
       "</div>"
      ],
      "text/plain": [
       "          duracion\n",
       "mes               \n",
       "2014-11  26639.441\n",
       "2014-12  14641.870\n",
       "2015-01  18223.299\n",
       "2015-02  15522.299\n",
       "2015-03  22750.441"
      ]
     },
     "execution_count": 8,
     "metadata": {},
     "output_type": "execute_result"
    }
   ],
   "source": [
    "data.groupby('mes').sum()"
   ]
  },
  {
   "cell_type": "code",
   "execution_count": 9,
   "metadata": {},
   "outputs": [
    {
     "name": "stdout",
     "output_type": "stream",
     "text": [
      "En el siguiente cuadro vemos la cantidad de entradas por mes \n",
      " segregadas en llamadas, sms y datos: \n",
      " \n",
      "\n",
      "mes      item\n",
      "2014-11  call    107\n",
      "         data     29\n",
      "         sms      94\n",
      "2014-12  call     79\n",
      "         data     30\n",
      "         sms      48\n",
      "2015-01  call     88\n",
      "         data     31\n",
      "         sms      86\n",
      "2015-02  call     67\n",
      "         data     31\n",
      "         sms      39\n",
      "2015-03  call     47\n",
      "         data     29\n",
      "         sms      25\n",
      "Name: duracion, dtype: int64\n"
     ]
    }
   ],
   "source": [
    "print('En el siguiente cuadro vemos la cantidad de entradas por mes \\n segregadas en llamadas, sms y datos: \\n \\n')\n",
    "\n",
    "print(data.groupby(['mes','item'])[\"duracion\"].count())"
   ]
  },
  {
   "cell_type": "code",
   "execution_count": 10,
   "metadata": {},
   "outputs": [
    {
     "name": "stdout",
     "output_type": "stream",
     "text": [
      "La duración total de las llamadas realizadas a cada una de las operadoras es: \n"
     ]
    },
    {
     "data": {
      "text/plain": [
       "red\n",
       "Meteor        7200.0\n",
       "Tesco        13828.0\n",
       "Three        36464.0\n",
       "Vodafone     14621.0\n",
       "landline     18433.0\n",
       "voicemail     1775.0\n",
       "Name: duracion, dtype: float64"
      ]
     },
     "execution_count": 10,
     "metadata": {},
     "output_type": "execute_result"
    }
   ],
   "source": [
    "print('La duración total de las llamadas realizadas a cada una de las operadoras es: ')\n",
    "\n",
    "data[data['item'] == 'call'].groupby('red')['duracion'].sum()"
   ]
  },
  {
   "cell_type": "code",
   "execution_count": 11,
   "metadata": {},
   "outputs": [
    {
     "name": "stdout",
     "output_type": "stream",
     "text": [
      "¿Cuántas llamadas, sms y datos son enviados a cada operadora por mes? : \n"
     ]
    },
    {
     "data": {
      "text/plain": [
       "mes      tipo_red \n",
       "2014-11  data          29\n",
       "         landline       5\n",
       "         mobile       189\n",
       "         special        1\n",
       "         voicemail      6\n",
       "2014-12  data          30\n",
       "         landline       7\n",
       "         mobile       108\n",
       "         voicemail      8\n",
       "         world          4\n",
       "2015-01  data          31\n",
       "         landline      11\n",
       "         mobile       160\n",
       "         voicemail      3\n",
       "2015-02  data          31\n",
       "         landline       8\n",
       "         mobile        90\n",
       "         special        2\n",
       "         voicemail      6\n",
       "2015-03  data          29\n",
       "         landline      11\n",
       "         mobile        54\n",
       "         voicemail      4\n",
       "         world          3\n",
       "Name: fecha, dtype: int64"
      ]
     },
     "execution_count": 11,
     "metadata": {},
     "output_type": "execute_result"
    }
   ],
   "source": [
    "print('¿Cuántas llamadas, sms y datos son enviados a cada operadora por mes? : ')\n",
    "\n",
    "data.groupby(['mes', 'tipo_red'])['fecha'].count()"
   ]
  },
  {
   "cell_type": "code",
   "execution_count": null,
   "metadata": {},
   "outputs": [],
   "source": []
  }
 ],
 "metadata": {
  "kernelspec": {
   "display_name": "Python 3 (ipykernel)",
   "language": "python",
   "name": "python3"
  },
  "language_info": {
   "codemirror_mode": {
    "name": "ipython",
    "version": 3
   },
   "file_extension": ".py",
   "mimetype": "text/x-python",
   "name": "python",
   "nbconvert_exporter": "python",
   "pygments_lexer": "ipython3",
   "version": "3.9.7"
  }
 },
 "nbformat": 4,
 "nbformat_minor": 4
}
