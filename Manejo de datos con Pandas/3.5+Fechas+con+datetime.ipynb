{
 "cells": [
  {
   "cell_type": "markdown",
   "metadata": {},
   "source": [
    "<font color=Green>\n",
    "    \n",
    "# **3.5 Fechas y tiempo**\n",
    "\n",
    "</font>\n",
    "\n",
    "### Para trabajar con valores de fecha y tiempo debemos utilizar el módulo `datetime`."
   ]
  },
  {
   "cell_type": "code",
   "execution_count": 1,
   "metadata": {},
   "outputs": [
    {
     "name": "stdout",
     "output_type": "stream",
     "text": [
      "2022-07-14\n",
      "<class 'datetime.date'>\n"
     ]
    }
   ],
   "source": [
    "from datetime import date\n",
    "\n",
    "d1 = date(2022,7,14)\n",
    "\n",
    "print(d1)\n",
    "\n",
    "print(type(d1))\n"
   ]
  },
  {
   "cell_type": "markdown",
   "metadata": {},
   "source": [
    "##  <font color=#003d5c> _datetime.date_ </font>\n",
    "### La clase `datetime.date` tiene atributos para obtener el día, mes y el año de la fecha."
   ]
  },
  {
   "cell_type": "code",
   "execution_count": 2,
   "metadata": {},
   "outputs": [
    {
     "name": "stdout",
     "output_type": "stream",
     "text": [
      "2022-07-14\n",
      "Día : 14\n",
      "Mes : 7\n",
      "Año : 2022\n"
     ]
    }
   ],
   "source": [
    "print(d1)\n",
    "\n",
    "# Día\n",
    "print('Día :',d1.day)\n",
    "\n",
    "# Mes\n",
    "print('Mes :',d1.month)\n",
    "\n",
    "# Año\n",
    "print('Año :',d1.year)"
   ]
  },
  {
   "cell_type": "markdown",
   "metadata": {},
   "source": [
    "### El método `date.today()` nos devuelve la fecha del día"
   ]
  },
  {
   "cell_type": "code",
   "execution_count": null,
   "metadata": {},
   "outputs": [],
   "source": [
    "d1 = date.today()\n",
    "print(d1)\n",
    "\n",
    "# Día\n",
    "print('Día :',d1.day)\n",
    "\n",
    "# Mes\n",
    "print('Mes :',d1.month)\n",
    "\n",
    "# Año\n",
    "print('Año :',d1.year)"
   ]
  },
  {
   "cell_type": "markdown",
   "metadata": {},
   "source": [
    "##  <font color=#003d5c> _datetime.time_ </font>\n",
    "\n",
    "### Un objeto de clase `datetime.time` tiene atributos para obtener la hora, los minutos y segundos de una hora."
   ]
  },
  {
   "cell_type": "code",
   "execution_count": 3,
   "metadata": {},
   "outputs": [
    {
     "name": "stdout",
     "output_type": "stream",
     "text": [
      "15:20:13.000040\n",
      "<class 'datetime.time'>\n"
     ]
    }
   ],
   "source": [
    "from datetime import time\n",
    "\n",
    "t1 = time(15,20,13,40)\n",
    "\n",
    "print(t1)\n",
    "\n",
    "print(type(t1))"
   ]
  },
  {
   "cell_type": "code",
   "execution_count": 4,
   "metadata": {},
   "outputs": [
    {
     "name": "stdout",
     "output_type": "stream",
     "text": [
      "Hora : 15\n",
      "Minuto : 20\n",
      "Segundo : 13\n",
      "Microsegundo : 40\n"
     ]
    }
   ],
   "source": [
    "# Hora\n",
    "print('Hora :',t1.hour)\n",
    "\n",
    "# Minuto\n",
    "print('Minuto :',t1.minute)\n",
    "\n",
    "# Segundo\n",
    "print('Segundo :',t1.second)\n",
    "\n",
    "# Microsegundo\n",
    "print('Microsegundo :',t1.microsecond)"
   ]
  },
  {
   "cell_type": "markdown",
   "metadata": {},
   "source": [
    "##  <font color=#003d5c> _datetime.datetime_ </font>\n",
    "### La clase `datetime.datetime` contiene tanto la información de fecha como de hora."
   ]
  },
  {
   "cell_type": "code",
   "execution_count": 5,
   "metadata": {},
   "outputs": [
    {
     "data": {
      "text/plain": [
       "datetime.datetime(2022, 7, 14, 13, 38, 47, 296634)"
      ]
     },
     "execution_count": 5,
     "metadata": {},
     "output_type": "execute_result"
    }
   ],
   "source": [
    "import datetime\n",
    "\n",
    "d1 = datetime.datetime.now()\n",
    "d1"
   ]
  },
  {
   "cell_type": "code",
   "execution_count": 7,
   "metadata": {},
   "outputs": [
    {
     "name": "stdout",
     "output_type": "stream",
     "text": [
      "2022-07-14 11:20:30.000040\n",
      "Día : 14\n",
      "Mes : 7\n",
      "Año : 2022\n",
      "-------------- \n",
      " Hora : 11\n",
      "Minuto : 20\n",
      "Segundo : 30\n",
      "Microsegundo : 40\n"
     ]
    }
   ],
   "source": [
    "d1 = datetime.datetime(2022,7,14,11,20,30,40)\n",
    "\n",
    "print(d1)\n",
    "\n",
    "# Día\n",
    "print('Día :',d1.day)\n",
    "\n",
    "# Mes\n",
    "print('Mes :',d1.month)\n",
    "\n",
    "# Año\n",
    "print('Año :',d1.year)\n",
    "\n",
    "# Hora\n",
    "print('-------------- \\n Hora :',d1.hour)\n",
    "\n",
    "# Minuto\n",
    "print('Minuto :',d1.minute)\n",
    "\n",
    "# Segundo\n",
    "print('Segundo :',d1.second)\n",
    "\n",
    "# Microsegundo\n",
    "print('Microsegundo :',d1.microsecond)"
   ]
  },
  {
   "cell_type": "markdown",
   "metadata": {},
   "source": [
    "## <font color=#003d5c>_.weekday()_ </font>\n",
    "### Este método nos devuelve un número correspondiente al día de la semana.\n",
    "> __{Lunes: 0, Martes: 1, Miércoles:2, Jueves:3, Viernes:4, Sábado: 5, Domingo: 6}__"
   ]
  },
  {
   "cell_type": "code",
   "execution_count": 8,
   "metadata": {},
   "outputs": [
    {
     "name": "stdout",
     "output_type": "stream",
     "text": [
      "2022-07-14 11:20:30.000040\n",
      "3\n"
     ]
    }
   ],
   "source": [
    "print(d1)\n",
    "print(d1.weekday())"
   ]
  },
  {
   "cell_type": "code",
   "execution_count": 9,
   "metadata": {},
   "outputs": [
    {
     "data": {
      "text/plain": [
       "datetime.datetime(2022, 7, 14, 13, 40, 11, 983997)"
      ]
     },
     "execution_count": 9,
     "metadata": {},
     "output_type": "execute_result"
    }
   ],
   "source": [
    "d1 = datetime.datetime.now()\n",
    "d1"
   ]
  },
  {
   "cell_type": "code",
   "execution_count": 10,
   "metadata": {},
   "outputs": [
    {
     "name": "stdout",
     "output_type": "stream",
     "text": [
      "3\n"
     ]
    }
   ],
   "source": [
    "print(d1.weekday())"
   ]
  },
  {
   "cell_type": "code",
   "execution_count": 11,
   "metadata": {},
   "outputs": [
    {
     "name": "stdout",
     "output_type": "stream",
     "text": [
      "4\n"
     ]
    }
   ],
   "source": [
    "print(d1.isoweekday())"
   ]
  },
  {
   "cell_type": "markdown",
   "metadata": {},
   "source": [
    "## <font color=#003d5c>_.isocalendar()_ </font>\n",
    "### Este método nos devuelve una tupla (`valor_1`,`valor_2`,`valor_3`) que representa una fecha:\n",
    "+ `valor_1` indica el año en formato ISO.\n",
    "+ `valor_2` indica la semana del año en formato ISO.\n",
    "+ `valor_3` indica el día de la semana en formato ISO.\n"
   ]
  },
  {
   "cell_type": "code",
   "execution_count": 12,
   "metadata": {},
   "outputs": [
    {
     "data": {
      "text/plain": [
       "datetime.IsoCalendarDate(year=2022, week=28, weekday=4)"
      ]
     },
     "execution_count": 12,
     "metadata": {},
     "output_type": "execute_result"
    }
   ],
   "source": [
    "d1.isocalendar()"
   ]
  },
  {
   "cell_type": "markdown",
   "metadata": {},
   "source": [
    "### Obtener fechas con otros métodos."
   ]
  },
  {
   "cell_type": "code",
   "execution_count": 13,
   "metadata": {},
   "outputs": [
    {
     "name": "stdout",
     "output_type": "stream",
     "text": [
      "2020-04-23\n",
      "<class 'datetime.date'>\n"
     ]
    }
   ],
   "source": [
    "d1_datetime = date.fromisoformat('2020-04-23')\n",
    "print(d1_datetime)\n",
    "print(type(d1_datetime))"
   ]
  },
  {
   "cell_type": "code",
   "execution_count": 14,
   "metadata": {},
   "outputs": [
    {
     "name": "stdout",
     "output_type": "stream",
     "text": [
      "2020-04-23\n",
      "<class 'str'>\n"
     ]
    }
   ],
   "source": [
    "\n",
    "d1_ISO = date(2020,4,23).isoformat()\n",
    "\n",
    "print(d1_ISO)\n",
    "print(type(d1_ISO))"
   ]
  },
  {
   "cell_type": "markdown",
   "metadata": {},
   "source": [
    "## <font color=#003d5c>_.strptime()_ </font>\n",
    "### Este método nos permite leer una cadena de texto con una fecha en un formato indeterminado como un objeto de clase `.datetime`\n",
    "\n",
    "|Formatos|Descripción|\n",
    "|-------|-----------|\n",
    "|`%a`|Nombre del día de la semana abreviado|\n",
    "|`%A`|Nombre del día de la semana completo|\n",
    "|`%w`|Día de la semana como número decimal|\n",
    "|`%d`|Día del mes como número de dos dígitos|\n",
    "|`%-d`|Día del mes como número decimal|\n",
    "|`%b`|Nombre del mes abreviado|\n",
    "|`%B`|Nombre del mes completo|\n",
    "|`%m`|Mes del año número de dos dígitos|\n",
    "|`%-m`|Mes del año como número decimal|\n",
    "|`%y`|Año sin centenas como número de dos dígitos|\n",
    "|`%-y`|Año sin centenas como número decimal|\n",
    "|`%Y`|Año completo|\n",
    "|`%H`|Hora en 24 hrs. con dos dígitos|\n",
    "|`%-H`|Hora en 24 hrs. como número decimal|\n",
    "|`%I`|Hora en 12 hrs. con dos dígitos|\n",
    "|`%-I`|Hora en 12 hrs. como número decimal|\n",
    "|`%M`|Minutos con dos dígitos|\n",
    "|`%-M`|Minutos como número decimal|\n",
    "|`%S`|Segundos con dos dígitos|\n",
    "|`%-S`|Segundos como número decimal|\n"
   ]
  },
  {
   "cell_type": "code",
   "execution_count": 15,
   "metadata": {},
   "outputs": [
    {
     "name": "stdout",
     "output_type": "stream",
     "text": [
      "2022-07-14 13:41:13\n",
      "<class 'datetime.datetime'>\n"
     ]
    }
   ],
   "source": [
    "fecha = '14 July, 2022 13:41:13'\n",
    "\n",
    "d1 = datetime.datetime.strptime(fecha,'%d %B, %Y %H:%M:%S')\n",
    "\n",
    "print(d1)\n",
    "print(type(d1))"
   ]
  },
  {
   "cell_type": "markdown",
   "metadata": {},
   "source": [
    "## <font color=#003d5c>_datetime.timedelta_ </font>\n",
    "### La clase timedelta nos permite operar entre fechas."
   ]
  },
  {
   "cell_type": "code",
   "execution_count": 16,
   "metadata": {},
   "outputs": [
    {
     "name": "stdout",
     "output_type": "stream",
     "text": [
      "Fecha de hoy : 2022-07-14 13:42:10.827905\n"
     ]
    }
   ],
   "source": [
    "d1 = datetime.datetime.now()\n",
    "\n",
    "print(\"Fecha de hoy :\",d1)\n"
   ]
  },
  {
   "cell_type": "markdown",
   "metadata": {},
   "source": [
    "### Para obtener la fecha de pasado mañana realizamos una suma de fechas."
   ]
  },
  {
   "cell_type": "code",
   "execution_count": 17,
   "metadata": {},
   "outputs": [
    {
     "name": "stdout",
     "output_type": "stream",
     "text": [
      "Fecha: 2 días a partir de hoy : 2022-07-16 13:42:10.827905\n"
     ]
    }
   ],
   "source": [
    "d2 = d1 + datetime.timedelta(days=2)\n",
    "print(\"Fecha: 2 días a partir de hoy :\",d2)\n"
   ]
  },
  {
   "cell_type": "code",
   "execution_count": 18,
   "metadata": {},
   "outputs": [
    {
     "name": "stdout",
     "output_type": "stream",
     "text": [
      "Fecha: 2 semanas a partir de hoy : 2022-07-28 13:42:10.827905\n"
     ]
    }
   ],
   "source": [
    "d3 = d1 + datetime.timedelta(weeks=2)\n",
    "print(\"Fecha: 2 semanas a partir de hoy :\",d3)"
   ]
  },
  {
   "cell_type": "markdown",
   "metadata": {},
   "source": [
    "### Para obtener una fecha pasada debemos realizar una substracción."
   ]
  },
  {
   "cell_type": "code",
   "execution_count": 19,
   "metadata": {},
   "outputs": [
    {
     "name": "stdout",
     "output_type": "stream",
     "text": [
      "Fecha: 2 días antes de hoy : 2022-07-12 13:42:10.827905\n",
      "Fecha: 2 semanas antes de hoy : 2022-06-30 13:42:10.827905\n"
     ]
    }
   ],
   "source": [
    "d2 = d1 - datetime.timedelta(days=2)\n",
    "print(\"Fecha: 2 días antes de hoy :\",d2)\n",
    "\n",
    "d3 = d1 - datetime.timedelta (weeks=2)\n",
    "print(\"Fecha: 2 semanas antes de hoy :\",d3)"
   ]
  },
  {
   "cell_type": "code",
   "execution_count": null,
   "metadata": {},
   "outputs": [],
   "source": []
  }
 ],
 "metadata": {
  "kernelspec": {
   "display_name": "Python 3 (ipykernel)",
   "language": "python",
   "name": "python3"
  },
  "language_info": {
   "codemirror_mode": {
    "name": "ipython",
    "version": 3
   },
   "file_extension": ".py",
   "mimetype": "text/x-python",
   "name": "python",
   "nbconvert_exporter": "python",
   "pygments_lexer": "ipython3",
   "version": "3.9.7"
  }
 },
 "nbformat": 4,
 "nbformat_minor": 4
}
