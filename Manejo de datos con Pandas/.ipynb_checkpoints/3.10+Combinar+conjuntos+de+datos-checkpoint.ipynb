{
 "cells": [
  {
   "cell_type": "markdown",
   "metadata": {},
   "source": [
    "<font color=Green>\n",
    "    \n",
    "# **3.10 Combinar conjuntos de datos**\n",
    "\n",
    "</font>\n"
   ]
  },
  {
   "cell_type": "code",
   "execution_count": 1,
   "metadata": {},
   "outputs": [],
   "source": [
    "import numpy as np\n",
    "import pandas as pd"
   ]
  },
  {
   "cell_type": "markdown",
   "metadata": {},
   "source": [
    "<img src=\"https://www.campusmvp.es/recursos/image.axd?picture=INNER-LEFT-RIGHT-FULL-JOIN.png\">"
   ]
  },
  {
   "cell_type": "markdown",
   "metadata": {},
   "source": [
    "##  <font color=#003d5c> _pd.merge()_ </font>"
   ]
  },
  {
   "cell_type": "code",
   "execution_count": null,
   "metadata": {},
   "outputs": [],
   "source": [
    "clima_p = pd.read_csv(r'C:\\Users\\ldavidr\\Desktop\\ny_precipitaciones.csv')\n",
    "clima_p.shape"
   ]
  },
  {
   "cell_type": "code",
   "execution_count": null,
   "metadata": {},
   "outputs": [],
   "source": [
    "clima_p.head()"
   ]
  },
  {
   "cell_type": "code",
   "execution_count": null,
   "metadata": {},
   "outputs": [],
   "source": [
    "clima_t = pd.read_csv(r'C:\\Users\\ldavidr\\Desktop\\ny_temperaturas.csv')\n",
    "clima_t.shape"
   ]
  },
  {
   "cell_type": "code",
   "execution_count": null,
   "metadata": {},
   "outputs": [],
   "source": [
    "clima_p.NAME"
   ]
  },
  {
   "cell_type": "code",
   "execution_count": null,
   "metadata": {
    "scrolled": true
   },
   "outputs": [],
   "source": [
    " clima_p[clima_p[\"NAME\"] == \"ITHACA CORNELL UNIVERSITY, NY US\"]"
   ]
  },
  {
   "cell_type": "code",
   "execution_count": null,
   "metadata": {},
   "outputs": [],
   "source": [
    "precip_itaca = clima_p[clima_p[\"NAME\"] == \"ITHACA CORNELL UNIVERSITY, NY US\"]\n",
    "precip_itaca.shape"
   ]
  },
  {
   "cell_type": "markdown",
   "metadata": {},
   "source": [
    "### De forma predeterminada `pd.merge` realiza un _Inner Join_ entre ambos DataFrames"
   ]
  },
  {
   "cell_type": "code",
   "execution_count": null,
   "metadata": {},
   "outputs": [],
   "source": [
    "itaca_inner_merge = pd.merge(precip_itaca, clima_t)\n",
    "itaca_inner_merge.shape"
   ]
  },
  {
   "cell_type": "code",
   "execution_count": null,
   "metadata": {},
   "outputs": [],
   "source": [
    "itaca_inner_merge.head()"
   ]
  },
  {
   "cell_type": "markdown",
   "metadata": {},
   "source": [
    "### Podemos especificarle a `pd.merge` qué  clase de _Join_ deseamos hacer entre los DataFrames"
   ]
  },
  {
   "cell_type": "code",
   "execution_count": null,
   "metadata": {},
   "outputs": [],
   "source": [
    "#Outer join\n",
    "\n",
    "itaca_outer_merge = pd.merge(precip_itaca, clima_t, how=\"outer\", on=[\"STATION\", \"DATE\"])\n",
    "itaca_outer_merge.columns"
   ]
  },
  {
   "cell_type": "code",
   "execution_count": null,
   "metadata": {},
   "outputs": [],
   "source": [
    "itaca_outer_merge.shape"
   ]
  },
  {
   "cell_type": "code",
   "execution_count": null,
   "metadata": {},
   "outputs": [],
   "source": [
    "itaca_outer_merge.head(30)"
   ]
  },
  {
   "cell_type": "code",
   "execution_count": null,
   "metadata": {},
   "outputs": [],
   "source": [
    "# Left Join\n",
    "\n",
    "itaca_left_merge = pd.merge(clima_t, precip_itaca,\n",
    "                        how=\"left\", on=[\"STATION\", \"DATE\"])\n",
    "itaca_left_merge.shape"
   ]
  },
  {
   "cell_type": "code",
   "execution_count": null,
   "metadata": {},
   "outputs": [],
   "source": [
    "# Right Join\n",
    "\n",
    "itaca_right_merge = pd.merge(clima_t, precip_itaca,\n",
    "                        how=\"right\", on=[\"STATION\", \"DATE\"])\n",
    "itaca_right_merge.shape"
   ]
  },
  {
   "cell_type": "markdown",
   "metadata": {},
   "source": [
    "##  <font color=#003d5c> _.join()_ </font>\n",
    "\n",
    "### Éste es un método contenido en el clase `DataFrame`.\n",
    "### Se diferencia de `pd.merge()` en que aquél es una función del módulo pandas y que `.join()` (de forma predeterminada) busca unir los conjuntos a partir de los índices."
   ]
  },
  {
   "cell_type": "code",
   "execution_count": null,
   "metadata": {},
   "outputs": [],
   "source": [
    "clima_t.join(clima_p)"
   ]
  },
  {
   "cell_type": "code",
   "execution_count": null,
   "metadata": {
    "scrolled": true
   },
   "outputs": [],
   "source": [
    "clima_join = clima_t.join(clima_p, lsuffix='_left')\n",
    "clima_join\n"
   ]
  },
  {
   "cell_type": "code",
   "execution_count": null,
   "metadata": {},
   "outputs": [],
   "source": [
    "clima_p.set_index([\"STATION\", \"DATE\"])"
   ]
  },
  {
   "cell_type": "code",
   "execution_count": null,
   "metadata": {
    "scrolled": true
   },
   "outputs": [],
   "source": [
    "clima_joined_total = clima_t.join(clima_p.set_index([\"STATION\", \"DATE\"]),\n",
    "                                lsuffix=\"_x\",\n",
    "                                rsuffix=\"_y\",\n",
    "                                on=[\"STATION\", \"DATE\"],\n",
    "                                )\n",
    "clima_joined_total.head()"
   ]
  },
  {
   "cell_type": "markdown",
   "metadata": {},
   "source": [
    "##  <font color=#003d5c> _pd.concat()_ </font>\n",
    "\n",
    "### Esta función nos permite juntar DataFrames a través de un eje, o las filas o las columnas."
   ]
  },
  {
   "cell_type": "code",
   "execution_count": null,
   "metadata": {},
   "outputs": [],
   "source": [
    "clima_total_outer_concat = pd.concat([clima_t, clima_p], axis=1)\n",
    "clima_total_outer_concat.tail()"
   ]
  },
  {
   "cell_type": "code",
   "execution_count": null,
   "metadata": {},
   "outputs": [],
   "source": [
    "clima_total_outer_concat = pd.concat([clima_t, clima_p], axis=0)\n",
    "clima_total_outer_concat.shape"
   ]
  },
  {
   "cell_type": "code",
   "execution_count": null,
   "metadata": {},
   "outputs": [],
   "source": [
    "df_jerar = pd.concat([clima_t, clima_p], keys=[\"temp\", \"precip\"])\n",
    "df_jerar\n"
   ]
  },
  {
   "cell_type": "code",
   "execution_count": null,
   "metadata": {},
   "outputs": [],
   "source": []
  }
 ],
 "metadata": {
  "kernelspec": {
   "display_name": "Python 3 (ipykernel)",
   "language": "python",
   "name": "python3"
  },
  "language_info": {
   "codemirror_mode": {
    "name": "ipython",
    "version": 3
   },
   "file_extension": ".py",
   "mimetype": "text/x-python",
   "name": "python",
   "nbconvert_exporter": "python",
   "pygments_lexer": "ipython3",
   "version": "3.9.7"
  }
 },
 "nbformat": 4,
 "nbformat_minor": 4
}
