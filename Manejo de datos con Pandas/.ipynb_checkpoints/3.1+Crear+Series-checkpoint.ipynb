{
 "cells": [
  {
   "cell_type": "markdown",
   "metadata": {},
   "source": [
    "<font color=Green>\n",
    "    \n",
    "# **3.1 Crear Series**\n",
    "\n",
    "</font>\n",
    "\n",
    "## <font color=#003d5c>Pandas</font>\n",
    "\n",
    "###  `pandas` es una librería que proporciona herramientas analíticas y estructuras de datos con alto rendimiento y facilidad de uso. \n",
    "\n",
    "### En particular, la clase `DataFrame` es útil para representación y manipulación de datos heterogéneos tabulados (hojas de cálculo, tabla SQL, etc.)  \n",
    "\n",
    "### Características:\n",
    "\n",
    "- Ofrece estructuras de datos flexibles y expresivas diseñadas para trabajar con datos tabulados y etiquetados, esta son: `Series` y  `DataFrame`.\n",
    "- Posee herramientas robustas de lectura/escritura de datos desde ficheros con formatos conocidos como: CSV, XLS. SQL, HDF5, entre otros.\n",
    "- Permite filtrar, agregar, o eliminar datos.\n",
    "- Combina las características de las matrices de alto rendimiento de `numpy` con capacidades de manipulación de datos tabulados.\n",
    "\n",
    "### Para importar los módulos de la librería `pandas`, por convención se utiliza:"
   ]
  },
  {
   "cell_type": "code",
   "execution_count": 1,
   "metadata": {},
   "outputs": [],
   "source": [
    "import numpy as np\n",
    "import pandas as pd "
   ]
  },
  {
   "cell_type": "markdown",
   "metadata": {},
   "source": [
    "### <font color=#003d5c> _Series_ </font>\n",
    "\n",
    "Las funcionalidades de `pandas` se basan en dos estructuras de datos fundamentales: *Series* y *DataFrames*.\n",
    "\n",
    "Una `Series` es un objeto que contiene un `array` unidimensional de datos y un `array` de etiquetas, conocido como *índice*. Si no se especifica un índice o etiqueta, este se genera internamente como una secuencia ordenada de números enteros.\n",
    "\n",
    "```python\n",
    "s = pd.Series(data, index=index)\n",
    "```"
   ]
  },
  {
   "cell_type": "code",
   "execution_count": 2,
   "metadata": {},
   "outputs": [
    {
     "data": {
      "text/plain": [
       "0    1979\n",
       "1    1980\n",
       "2    1981\n",
       "3    1982\n",
       "dtype: int64"
      ]
     },
     "execution_count": 2,
     "metadata": {},
     "output_type": "execute_result"
    }
   ],
   "source": [
    "# Crear una Series con índices automáticos\n",
    "serie = pd.Series([1979, 1980, 1981, 1982])\n",
    "serie"
   ]
  },
  {
   "cell_type": "code",
   "execution_count": 3,
   "metadata": {},
   "outputs": [
    {
     "data": {
      "text/plain": [
       "7922"
      ]
     },
     "execution_count": 3,
     "metadata": {},
     "output_type": "execute_result"
    }
   ],
   "source": [
    "serie.values.sum()"
   ]
  },
  {
   "cell_type": "code",
   "execution_count": null,
   "metadata": {},
   "outputs": [],
   "source": [
    "serie.index"
   ]
  },
  {
   "cell_type": "markdown",
   "metadata": {},
   "source": [
    "### Podemos definir explícitamente un `array` índice y pasarlo como argumento."
   ]
  },
  {
   "cell_type": "code",
   "execution_count": 4,
   "metadata": {},
   "outputs": [
    {
     "data": {
      "text/plain": [
       "daniela      1989\n",
       "valentina    1990\n",
       "andrea       1991\n",
       "sherezade    1992\n",
       "genesis      1993\n",
       "dtype: int64"
      ]
     },
     "execution_count": 4,
     "metadata": {},
     "output_type": "execute_result"
    }
   ],
   "source": [
    "serie = pd.Series([1989, 1990, 1991, 1992,1993], index=['daniela', 'valentina', 'andrea', 'sherezade', 'genesis'])\n",
    "serie"
   ]
  },
  {
   "cell_type": "code",
   "execution_count": 5,
   "metadata": {},
   "outputs": [
    {
     "data": {
      "text/plain": [
       "Index(['daniela', 'valentina', 'andrea', 'sherezade', 'genesis'], dtype='object')"
      ]
     },
     "execution_count": 5,
     "metadata": {},
     "output_type": "execute_result"
    }
   ],
   "source": [
    "serie.index"
   ]
  },
  {
   "cell_type": "markdown",
   "metadata": {},
   "source": [
    "### También se pueden crear `Series` a partir de diccionarios, `arrays`, etc."
   ]
  },
  {
   "cell_type": "code",
   "execution_count": 6,
   "metadata": {},
   "outputs": [
    {
     "data": {
      "text/plain": [
       "0    0.227508\n",
       "1    0.446442\n",
       "2    0.171144\n",
       "3    0.663680\n",
       "4    0.042365\n",
       "5    0.337123\n",
       "6    0.681562\n",
       "7    0.060792\n",
       "8    0.133619\n",
       "9    0.631989\n",
       "dtype: float64"
      ]
     },
     "execution_count": 6,
     "metadata": {},
     "output_type": "execute_result"
    }
   ],
   "source": [
    "serie = pd.Series(np.random.rand(10))\n",
    "serie"
   ]
  },
  {
   "cell_type": "code",
   "execution_count": 7,
   "metadata": {
    "scrolled": true
   },
   "outputs": [
    {
     "data": {
      "text/plain": [
       "{'cuadrado de 0': 0,\n",
       " 'cuadrado de 1': 1,\n",
       " 'cuadrado de 2': 4,\n",
       " 'cuadrado de 3': 9,\n",
       " 'cuadrado de 4': 16,\n",
       " 'cuadrado de 5': 25,\n",
       " 'cuadrado de 6': 36,\n",
       " 'cuadrado de 7': 49,\n",
       " 'cuadrado de 8': 64,\n",
       " 'cuadrado de 9': 81,\n",
       " 'cuadrado de 10': 100}"
      ]
     },
     "execution_count": 7,
     "metadata": {},
     "output_type": "execute_result"
    }
   ],
   "source": [
    "dicci = {'cuadrado de {}'.format(i) : i*i for i in range(11)}\n",
    "dicci"
   ]
  },
  {
   "cell_type": "code",
   "execution_count": 8,
   "metadata": {},
   "outputs": [
    {
     "data": {
      "text/plain": [
       "cuadrado de 0       0\n",
       "cuadrado de 1       1\n",
       "cuadrado de 2       4\n",
       "cuadrado de 3       9\n",
       "cuadrado de 4      16\n",
       "cuadrado de 5      25\n",
       "cuadrado de 6      36\n",
       "cuadrado de 7      49\n",
       "cuadrado de 8      64\n",
       "cuadrado de 9      81\n",
       "cuadrado de 10    100\n",
       "dtype: int64"
      ]
     },
     "execution_count": 8,
     "metadata": {},
     "output_type": "execute_result"
    }
   ],
   "source": [
    "serie_dic = pd.Series(dicci)\n",
    "serie_dic"
   ]
  },
  {
   "cell_type": "code",
   "execution_count": null,
   "metadata": {},
   "outputs": [],
   "source": []
  }
 ],
 "metadata": {
  "kernelspec": {
   "display_name": "Python 3 (ipykernel)",
   "language": "python",
   "name": "python3"
  },
  "language_info": {
   "codemirror_mode": {
    "name": "ipython",
    "version": 3
   },
   "file_extension": ".py",
   "mimetype": "text/x-python",
   "name": "python",
   "nbconvert_exporter": "python",
   "pygments_lexer": "ipython3",
   "version": "3.9.7"
  }
 },
 "nbformat": 4,
 "nbformat_minor": 4
}
