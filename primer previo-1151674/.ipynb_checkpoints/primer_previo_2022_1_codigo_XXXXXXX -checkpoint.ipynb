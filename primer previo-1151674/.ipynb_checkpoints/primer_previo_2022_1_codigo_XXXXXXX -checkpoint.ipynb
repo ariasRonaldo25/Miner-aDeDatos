{
 "cells": [
  {
   "cell_type": "markdown",
   "metadata": {},
   "source": [
    "### Primer Previo Final de Mineria de Datos-1151674"
   ]
  },
  {
   "cell_type": "markdown",
   "metadata": {},
   "source": [
    "### Antes de comenzar por favor cambie el nombre del archivo agregandole su codigo al final. ejemplo: *primer_previo_2022_1_codigo_1151020*"
   ]
  },
  {
   "cell_type": "markdown",
   "metadata": {},
   "source": [
    "## PARTE TEORICA VALOR 0.5"
   ]
  },
  {
   "cell_type": "markdown",
   "metadata": {},
   "source": [
    "1. Explique el proceso de un proyecto de Datascience \n",
    "\n",
    "R/.Es la secuencia de fases que atraviesa un proyecto desde su inicio hasta su cierre. El número y la secuencia del ciclo están determinados por la gestión y otros factores diversos, como las necesidades de la organización que participa en el proyecto, la naturaleza del proyecto y su aplicación.\n",
    "\n",
    "en estas fases se encuentran:\n",
    "\n",
    "1)Objetivos del proyecto: En esta fase se establece de forma clara el objetivo proyecto. A partir de este objetivo se define que se va a investigar, cómo la compañía se beneficia de ello, un calendario de ruta y los productos a entregar. Aquí se evalúa si se dispone de los recursos necesarios en términos de personas, tecnología, tiempo y datos para apoyar el proyecto.\n",
    "\n",
    "2)Conocimiento y Preparación de datos: esta fase se encarga de entender y preparar los datos.declarando en el del proyecto qué datos necesita y dónde puede encontrarlos. En este paso se asegura  que se pueden utilizar los datos en los softwares especialiados, lo que significa comprobar la existencia, la calidad, el entendimiento y el acceso a los datos.\n",
    "\n",
    "3)Exploración y Planificación del modelo: En esta fase se determinan los métodos y técnicas para establecer las relaciones entre las variables. Estas relaciones establecerán la base de los algoritmos que se implementarán en la siguiente fase. \n",
    "\n",
    "4)Desarrollo del modelo:En esta fase se utiliza el conocimiento sobre desarrollo de modelos y perspicacia sobre los datos que se han encontrado en los pasos anteriores para responder a la preguntas del objetivo del proyecto. Se deberán de analizar las variables intrínsecas del proyecto a partir de tus datos para evaluar las técnicas como la clasificación, la asociación y el agrupamiento para construir el modelo.\n",
    "\n",
    "\n",
    "5)Despliege e Informes:En esta fase se realiza la entrega informes finales, resultados comparativos, sesiones informativas de los modelos desarrollados, código y documentos técnicos. Además, a veces también se implementa un proyecto piloto en un entorno de producción en tiempo real, el cual deberá ser evaluado para que cumpla con los requisitos y requerimientos del proyecto o cliente.\n",
    "\n",
    "5)Comunicar resultados:En esta fase es importante evaluar si se han logrado los objetivos planteados en la primera fase. Así pues, en la última fase, se identifican todos los hallazgos clave, se comunican a las partes interesadas y se determina si los resultados del proyecto son un éxito o un fracaso basándose en los criterios desarrollados en la fase 1.\n"
   ]
  },
  {
   "cell_type": "markdown",
   "metadata": {},
   "source": [
    "2. Cuales son las características que debe tener un Data scientist?\n",
    "\n",
    "R/. -Formación en estadística y matemáticas\n",
    "    -Tener pasión por los datos, esta es la base de un data scientist.\n",
    "    -Capacidad de comunicar el conocimiento de los datos.\n",
    "    -Resolver los problemas imprevistos.\n",
    "    -Creatividad.\n",
    "    -Adaptabilidad frente a los cambios."
   ]
  },
  {
   "cell_type": "markdown",
   "metadata": {},
   "source": [
    "3. Cual es la diferencia entre data Science y Big Data?\n",
    "\n",
    "R/. El análisis de big data extrae información útil de grandes conjuntos de datos,la ciencia de datos por otro lado se centra en utilizar algoritmos de machine learning y métodos estadísticos para entrenar a las computadoras para que hagan predicciones precisas. "
   ]
  },
  {
   "cell_type": "markdown",
   "metadata": {},
   "source": [
    "4. De donde podemos obtener datos?\n",
    "\n",
    "R/.En la actualidad podemos obtener los datos de diversos medios ya sea a traves de un formulario manual, un formulario de registro en una red social, a traves de sensores iot, en fin existen una gran variedad de medios a través de los cuales estos datos se pueden obtener, por tal motivo los repositorios de datos que existen en la actualidad son gigantescos, pero asi como contamos con un sin numero de medios para obtener los datos, también tenemos una amplia gama de modelos para el manejo estandariación y análisis de los datos.   \n"
   ]
  },
  {
   "cell_type": "markdown",
   "metadata": {},
   "source": [
    "5. Cuales son los tipos de datos y de ejemplos de cada uno.\n",
    "\n",
    "R/. Se encuentran los siguientes tipos:\n",
    "\n",
    "1.Datos no estructurados: como por ejemplo: datos recopilados por las redes sociales, correos electrónicos, blogs, imágenes digitales, archivos de audio o vídeo, datos móviles, datos recopilados por sensores de sensores(IOT), páginas web.\n",
    "\n",
    "   2.Semiestructurados: ejemplos: archivos XML, archivos de registro del sistema, archivos de texto.\n",
    "\n",
    "   3.Datos estructurados: bases de datos, datos de transacciones."
   ]
  },
  {
   "cell_type": "markdown",
   "metadata": {},
   "source": [
    "### PARTE PRACTICA"
   ]
  },
  {
   "cell_type": "markdown",
   "metadata": {},
   "source": [
    "#### Descripción\n",
    "\n",
    "\n",
    "El dataset consiste en información relativa al alquiler de habitaciones utilizando la aplicación de Airbnb. Dicha información incluye la siguiente informacion \n",
    "room_id: numero del cuarto\n",
    "host_id: numero del cliente\n",
    "room_type:tipo_de_habitacion\n",
    "neighborhood:barrio\n",
    "reviews:cantidad de comentarios\n",
    "overall_satisfaction: calificación de satisfaccion\n",
    "accommodates:cantidad de personas en la acomodacion\n",
    "bedrooms:cantidad de dormitorios\n",
    "price:precio\n",
    "\n",
    "EJERCICIOS\n",
    "\n",
    "1. leer el archivo airbnb.csv y llame al dataframe df (valor 0.5)\n",
    "    - cambiar los nombres de las columnas de la siguiente manera:\n",
    "                room_id: room_id\n",
    "                host_id: host_id\n",
    "                room_type:tipo_de_habitacion\n",
    "                neighborhood:barrio\n",
    "                reviews:comentarios\n",
    "                overall_satisfaction: satisfaccion\n",
    "                accommodates:acomodacion\n",
    "                bedrooms:dormitorios\n",
    "                price:precio\n",
    "    - valor 0.2\n",
    "    - Muestre las primeras 5 filas\n",
    "    - Muestre el tamaño del dataframe"
   ]
  },
  {
   "cell_type": "code",
   "execution_count": 100,
   "metadata": {},
   "outputs": [],
   "source": [
    "# impotacion de las librerias necesarias.\n",
    "import numpy as np\n",
    "import pandas as pd\n",
    "import matplotlib.pyplot as plt\n",
    "from sklearn import linear_model\n",
    "from sklearn.model_selection import train_test_split, cross_val_predict, cross_val_score, cross_validate\n",
    "from sklearn.metrics import r2_score"
   ]
  },
  {
   "cell_type": "code",
   "execution_count": 87,
   "metadata": {},
   "outputs": [
    {
     "data": {
      "text/html": [
       "<div>\n",
       "<style scoped>\n",
       "    .dataframe tbody tr th:only-of-type {\n",
       "        vertical-align: middle;\n",
       "    }\n",
       "\n",
       "    .dataframe tbody tr th {\n",
       "        vertical-align: top;\n",
       "    }\n",
       "\n",
       "    .dataframe thead th {\n",
       "        text-align: right;\n",
       "    }\n",
       "</style>\n",
       "<table border=\"1\" class=\"dataframe\">\n",
       "  <thead>\n",
       "    <tr style=\"text-align: right;\">\n",
       "      <th></th>\n",
       "      <th>room_id</th>\n",
       "      <th>host_id</th>\n",
       "      <th>tipo_de_habitacion</th>\n",
       "      <th>barrio</th>\n",
       "      <th>comentarios</th>\n",
       "      <th>satisfaccion</th>\n",
       "      <th>acomodacion</th>\n",
       "      <th>dormitorios</th>\n",
       "      <th>precio</th>\n",
       "    </tr>\n",
       "  </thead>\n",
       "  <tbody>\n",
       "    <tr>\n",
       "      <th>0</th>\n",
       "      <td>6499</td>\n",
       "      <td>14455</td>\n",
       "      <td>Entire home/apt</td>\n",
       "      <td>Belém</td>\n",
       "      <td>8</td>\n",
       "      <td>5.0</td>\n",
       "      <td>2.0</td>\n",
       "      <td>1.0</td>\n",
       "      <td>57.0</td>\n",
       "    </tr>\n",
       "    <tr>\n",
       "      <th>1</th>\n",
       "      <td>17031</td>\n",
       "      <td>66015</td>\n",
       "      <td>Entire home/apt</td>\n",
       "      <td>Alvalade</td>\n",
       "      <td>6</td>\n",
       "      <td>1.0</td>\n",
       "      <td>NaN</td>\n",
       "      <td>1.0</td>\n",
       "      <td>46.0</td>\n",
       "    </tr>\n",
       "    <tr>\n",
       "      <th>2</th>\n",
       "      <td>25659</td>\n",
       "      <td>107347</td>\n",
       "      <td>Entire home/apt</td>\n",
       "      <td>Santa Maria Maior</td>\n",
       "      <td>63</td>\n",
       "      <td>5.0</td>\n",
       "      <td>3.0</td>\n",
       "      <td>1.0</td>\n",
       "      <td>69.0</td>\n",
       "    </tr>\n",
       "    <tr>\n",
       "      <th>3</th>\n",
       "      <td>29248</td>\n",
       "      <td>125768</td>\n",
       "      <td>Entire home/apt</td>\n",
       "      <td>Santa Maria Maior</td>\n",
       "      <td>225</td>\n",
       "      <td>4.5</td>\n",
       "      <td>4.0</td>\n",
       "      <td>1.0</td>\n",
       "      <td>58.0</td>\n",
       "    </tr>\n",
       "    <tr>\n",
       "      <th>4</th>\n",
       "      <td>29396</td>\n",
       "      <td>126415</td>\n",
       "      <td>Entire home/apt</td>\n",
       "      <td>Santa Maria Maior</td>\n",
       "      <td>132</td>\n",
       "      <td>5.0</td>\n",
       "      <td>4.0</td>\n",
       "      <td>1.0</td>\n",
       "      <td>67.0</td>\n",
       "    </tr>\n",
       "  </tbody>\n",
       "</table>\n",
       "</div>"
      ],
      "text/plain": [
       "   room_id  host_id tipo_de_habitacion             barrio  comentarios  \\\n",
       "0     6499    14455    Entire home/apt              Belém            8   \n",
       "1    17031    66015    Entire home/apt           Alvalade            6   \n",
       "2    25659   107347    Entire home/apt  Santa Maria Maior           63   \n",
       "3    29248   125768    Entire home/apt  Santa Maria Maior          225   \n",
       "4    29396   126415    Entire home/apt  Santa Maria Maior          132   \n",
       "\n",
       "   satisfaccion  acomodacion  dormitorios  precio  \n",
       "0           5.0          2.0          1.0    57.0  \n",
       "1           1.0          NaN          1.0    46.0  \n",
       "2           5.0          3.0          1.0    69.0  \n",
       "3           4.5          4.0          1.0    58.0  \n",
       "4           5.0          4.0          1.0    67.0  "
      ]
     },
     "execution_count": 87,
     "metadata": {},
     "output_type": "execute_result"
    }
   ],
   "source": [
    "dataset = pd.read_csv('airbnb.csv')\n",
    "dataset.columns = ['room_id', 'host_id', 'tipo_de_habitacion', 'barrio', 'comentarios', 'satisfaccion', 'acomodacion', 'dormitorios', 'precio']\n",
    "df = pd.DataFrame(dataset)\n",
    "df.head()"
   ]
  },
  {
   "cell_type": "code",
   "execution_count": 88,
   "metadata": {},
   "outputs": [
    {
     "data": {
      "text/plain": [
       "(13232, 9)"
      ]
     },
     "execution_count": 88,
     "metadata": {},
     "output_type": "execute_result"
    }
   ],
   "source": [
    "df.shape"
   ]
  },
  {
   "cell_type": "markdown",
   "metadata": {},
   "source": [
    "# Analisis exploratorio de datos (EDA)"
   ]
  },
  {
   "cell_type": "markdown",
   "metadata": {},
   "source": [
    "- Muestre la descripcion del dataframe df vale (0.2)"
   ]
  },
  {
   "cell_type": "code",
   "execution_count": 89,
   "metadata": {},
   "outputs": [
    {
     "data": {
      "text/html": [
       "<div>\n",
       "<style scoped>\n",
       "    .dataframe tbody tr th:only-of-type {\n",
       "        vertical-align: middle;\n",
       "    }\n",
       "\n",
       "    .dataframe tbody tr th {\n",
       "        vertical-align: top;\n",
       "    }\n",
       "\n",
       "    .dataframe thead th {\n",
       "        text-align: right;\n",
       "    }\n",
       "</style>\n",
       "<table border=\"1\" class=\"dataframe\">\n",
       "  <thead>\n",
       "    <tr style=\"text-align: right;\">\n",
       "      <th></th>\n",
       "      <th>room_id</th>\n",
       "      <th>host_id</th>\n",
       "      <th>comentarios</th>\n",
       "      <th>satisfaccion</th>\n",
       "      <th>acomodacion</th>\n",
       "      <th>dormitorios</th>\n",
       "      <th>precio</th>\n",
       "    </tr>\n",
       "  </thead>\n",
       "  <tbody>\n",
       "    <tr>\n",
       "      <th>count</th>\n",
       "      <td>1.323200e+04</td>\n",
       "      <td>1.323200e+04</td>\n",
       "      <td>13232.000000</td>\n",
       "      <td>13222.000000</td>\n",
       "      <td>13231.000000</td>\n",
       "      <td>13231.000000</td>\n",
       "      <td>13232.000000</td>\n",
       "    </tr>\n",
       "    <tr>\n",
       "      <th>mean</th>\n",
       "      <td>1.055081e+07</td>\n",
       "      <td>3.616444e+07</td>\n",
       "      <td>29.130517</td>\n",
       "      <td>3.284753</td>\n",
       "      <td>3.917920</td>\n",
       "      <td>1.549392</td>\n",
       "      <td>86.592352</td>\n",
       "    </tr>\n",
       "    <tr>\n",
       "      <th>std</th>\n",
       "      <td>6.069884e+06</td>\n",
       "      <td>3.706975e+07</td>\n",
       "      <td>42.802485</td>\n",
       "      <td>2.123136</td>\n",
       "      <td>2.293783</td>\n",
       "      <td>1.062786</td>\n",
       "      <td>135.208926</td>\n",
       "    </tr>\n",
       "    <tr>\n",
       "      <th>min</th>\n",
       "      <td>6.499000e+03</td>\n",
       "      <td>1.445500e+04</td>\n",
       "      <td>0.000000</td>\n",
       "      <td>0.000000</td>\n",
       "      <td>1.000000</td>\n",
       "      <td>0.000000</td>\n",
       "      <td>10.000000</td>\n",
       "    </tr>\n",
       "    <tr>\n",
       "      <th>25%</th>\n",
       "      <td>5.054848e+06</td>\n",
       "      <td>6.197930e+06</td>\n",
       "      <td>2.000000</td>\n",
       "      <td>0.000000</td>\n",
       "      <td>2.000000</td>\n",
       "      <td>1.000000</td>\n",
       "      <td>45.000000</td>\n",
       "    </tr>\n",
       "    <tr>\n",
       "      <th>50%</th>\n",
       "      <td>1.166226e+07</td>\n",
       "      <td>2.207571e+07</td>\n",
       "      <td>11.000000</td>\n",
       "      <td>4.500000</td>\n",
       "      <td>4.000000</td>\n",
       "      <td>1.000000</td>\n",
       "      <td>64.000000</td>\n",
       "    </tr>\n",
       "    <tr>\n",
       "      <th>75%</th>\n",
       "      <td>1.609631e+07</td>\n",
       "      <td>5.546697e+07</td>\n",
       "      <td>39.000000</td>\n",
       "      <td>5.000000</td>\n",
       "      <td>5.000000</td>\n",
       "      <td>2.000000</td>\n",
       "      <td>93.000000</td>\n",
       "    </tr>\n",
       "    <tr>\n",
       "      <th>max</th>\n",
       "      <td>1.940072e+07</td>\n",
       "      <td>1.359156e+08</td>\n",
       "      <td>438.000000</td>\n",
       "      <td>5.000000</td>\n",
       "      <td>16.000000</td>\n",
       "      <td>10.000000</td>\n",
       "      <td>7496.000000</td>\n",
       "    </tr>\n",
       "  </tbody>\n",
       "</table>\n",
       "</div>"
      ],
      "text/plain": [
       "            room_id       host_id   comentarios  satisfaccion   acomodacion  \\\n",
       "count  1.323200e+04  1.323200e+04  13232.000000  13222.000000  13231.000000   \n",
       "mean   1.055081e+07  3.616444e+07     29.130517      3.284753      3.917920   \n",
       "std    6.069884e+06  3.706975e+07     42.802485      2.123136      2.293783   \n",
       "min    6.499000e+03  1.445500e+04      0.000000      0.000000      1.000000   \n",
       "25%    5.054848e+06  6.197930e+06      2.000000      0.000000      2.000000   \n",
       "50%    1.166226e+07  2.207571e+07     11.000000      4.500000      4.000000   \n",
       "75%    1.609631e+07  5.546697e+07     39.000000      5.000000      5.000000   \n",
       "max    1.940072e+07  1.359156e+08    438.000000      5.000000     16.000000   \n",
       "\n",
       "        dormitorios        precio  \n",
       "count  13231.000000  13232.000000  \n",
       "mean       1.549392     86.592352  \n",
       "std        1.062786    135.208926  \n",
       "min        0.000000     10.000000  \n",
       "25%        1.000000     45.000000  \n",
       "50%        1.000000     64.000000  \n",
       "75%        2.000000     93.000000  \n",
       "max       10.000000   7496.000000  "
      ]
     },
     "execution_count": 89,
     "metadata": {},
     "output_type": "execute_result"
    }
   ],
   "source": [
    "df.describe()"
   ]
  },
  {
   "cell_type": "markdown",
   "metadata": {},
   "source": [
    "### Valores inexistentes\n"
   ]
  },
  {
   "cell_type": "markdown",
   "metadata": {},
   "source": [
    "Muchos algoritmos de Machine Learning requieren que no existan valores inexistentes (o NaN como se llaman a veces).\n",
    "\n",
    "Hay varias técnicas para tratar dichos valores:"
   ]
  },
  {
   "cell_type": "markdown",
   "metadata": {},
   "source": [
    "2. eliminar records con valores inexistentes valor 0.3\n",
    "    - Elimine las filas con valores nulos en \"acomodacion\", \"dormitorios\" en un nuevo dataframe llamado df_sin_null\n",
    "    - Muestre el tamaño de este nuevo dataframe df_sin_null"
   ]
  },
  {
   "cell_type": "code",
   "execution_count": 90,
   "metadata": {},
   "outputs": [
    {
     "data": {
      "text/html": [
       "<div>\n",
       "<style scoped>\n",
       "    .dataframe tbody tr th:only-of-type {\n",
       "        vertical-align: middle;\n",
       "    }\n",
       "\n",
       "    .dataframe tbody tr th {\n",
       "        vertical-align: top;\n",
       "    }\n",
       "\n",
       "    .dataframe thead th {\n",
       "        text-align: right;\n",
       "    }\n",
       "</style>\n",
       "<table border=\"1\" class=\"dataframe\">\n",
       "  <thead>\n",
       "    <tr style=\"text-align: right;\">\n",
       "      <th></th>\n",
       "      <th>room_id</th>\n",
       "      <th>host_id</th>\n",
       "      <th>tipo_de_habitacion</th>\n",
       "      <th>barrio</th>\n",
       "      <th>comentarios</th>\n",
       "      <th>satisfaccion</th>\n",
       "      <th>acomodacion</th>\n",
       "      <th>dormitorios</th>\n",
       "      <th>precio</th>\n",
       "    </tr>\n",
       "  </thead>\n",
       "  <tbody>\n",
       "    <tr>\n",
       "      <th>0</th>\n",
       "      <td>6499</td>\n",
       "      <td>14455</td>\n",
       "      <td>Entire home/apt</td>\n",
       "      <td>Belém</td>\n",
       "      <td>8</td>\n",
       "      <td>5.0</td>\n",
       "      <td>2.0</td>\n",
       "      <td>1.0</td>\n",
       "      <td>57.0</td>\n",
       "    </tr>\n",
       "    <tr>\n",
       "      <th>2</th>\n",
       "      <td>25659</td>\n",
       "      <td>107347</td>\n",
       "      <td>Entire home/apt</td>\n",
       "      <td>Santa Maria Maior</td>\n",
       "      <td>63</td>\n",
       "      <td>5.0</td>\n",
       "      <td>3.0</td>\n",
       "      <td>1.0</td>\n",
       "      <td>69.0</td>\n",
       "    </tr>\n",
       "    <tr>\n",
       "      <th>3</th>\n",
       "      <td>29248</td>\n",
       "      <td>125768</td>\n",
       "      <td>Entire home/apt</td>\n",
       "      <td>Santa Maria Maior</td>\n",
       "      <td>225</td>\n",
       "      <td>4.5</td>\n",
       "      <td>4.0</td>\n",
       "      <td>1.0</td>\n",
       "      <td>58.0</td>\n",
       "    </tr>\n",
       "    <tr>\n",
       "      <th>4</th>\n",
       "      <td>29396</td>\n",
       "      <td>126415</td>\n",
       "      <td>Entire home/apt</td>\n",
       "      <td>Santa Maria Maior</td>\n",
       "      <td>132</td>\n",
       "      <td>5.0</td>\n",
       "      <td>4.0</td>\n",
       "      <td>1.0</td>\n",
       "      <td>67.0</td>\n",
       "    </tr>\n",
       "    <tr>\n",
       "      <th>5</th>\n",
       "      <td>29720</td>\n",
       "      <td>128075</td>\n",
       "      <td>Entire home/apt</td>\n",
       "      <td>Estrela</td>\n",
       "      <td>14</td>\n",
       "      <td>5.0</td>\n",
       "      <td>16.0</td>\n",
       "      <td>9.0</td>\n",
       "      <td>1154.0</td>\n",
       "    </tr>\n",
       "    <tr>\n",
       "      <th>...</th>\n",
       "      <td>...</td>\n",
       "      <td>...</td>\n",
       "      <td>...</td>\n",
       "      <td>...</td>\n",
       "      <td>...</td>\n",
       "      <td>...</td>\n",
       "      <td>...</td>\n",
       "      <td>...</td>\n",
       "      <td>...</td>\n",
       "    </tr>\n",
       "    <tr>\n",
       "      <th>13227</th>\n",
       "      <td>19388006</td>\n",
       "      <td>135915593</td>\n",
       "      <td>Entire home/apt</td>\n",
       "      <td>São Vicente</td>\n",
       "      <td>0</td>\n",
       "      <td>0.0</td>\n",
       "      <td>6.0</td>\n",
       "      <td>3.0</td>\n",
       "      <td>415.0</td>\n",
       "    </tr>\n",
       "    <tr>\n",
       "      <th>13228</th>\n",
       "      <td>19393935</td>\n",
       "      <td>5376796</td>\n",
       "      <td>Entire home/apt</td>\n",
       "      <td>Santa Maria Maior</td>\n",
       "      <td>0</td>\n",
       "      <td>0.0</td>\n",
       "      <td>3.0</td>\n",
       "      <td>1.0</td>\n",
       "      <td>50.0</td>\n",
       "    </tr>\n",
       "    <tr>\n",
       "      <th>13229</th>\n",
       "      <td>19396300</td>\n",
       "      <td>6115933</td>\n",
       "      <td>Entire home/apt</td>\n",
       "      <td>Santo António</td>\n",
       "      <td>0</td>\n",
       "      <td>0.0</td>\n",
       "      <td>6.0</td>\n",
       "      <td>4.0</td>\n",
       "      <td>138.0</td>\n",
       "    </tr>\n",
       "    <tr>\n",
       "      <th>13230</th>\n",
       "      <td>19397373</td>\n",
       "      <td>97139334</td>\n",
       "      <td>Entire home/apt</td>\n",
       "      <td>São Vicente</td>\n",
       "      <td>0</td>\n",
       "      <td>0.0</td>\n",
       "      <td>4.0</td>\n",
       "      <td>1.0</td>\n",
       "      <td>56.0</td>\n",
       "    </tr>\n",
       "    <tr>\n",
       "      <th>13231</th>\n",
       "      <td>19400722</td>\n",
       "      <td>28219108</td>\n",
       "      <td>Entire home/apt</td>\n",
       "      <td>Areeiro</td>\n",
       "      <td>0</td>\n",
       "      <td>0.0</td>\n",
       "      <td>5.0</td>\n",
       "      <td>3.0</td>\n",
       "      <td>75.0</td>\n",
       "    </tr>\n",
       "  </tbody>\n",
       "</table>\n",
       "<p>13230 rows × 9 columns</p>\n",
       "</div>"
      ],
      "text/plain": [
       "        room_id    host_id tipo_de_habitacion             barrio  comentarios  \\\n",
       "0          6499      14455    Entire home/apt              Belém            8   \n",
       "2         25659     107347    Entire home/apt  Santa Maria Maior           63   \n",
       "3         29248     125768    Entire home/apt  Santa Maria Maior          225   \n",
       "4         29396     126415    Entire home/apt  Santa Maria Maior          132   \n",
       "5         29720     128075    Entire home/apt            Estrela           14   \n",
       "...         ...        ...                ...                ...          ...   \n",
       "13227  19388006  135915593    Entire home/apt        São Vicente            0   \n",
       "13228  19393935    5376796    Entire home/apt  Santa Maria Maior            0   \n",
       "13229  19396300    6115933    Entire home/apt      Santo António            0   \n",
       "13230  19397373   97139334    Entire home/apt        São Vicente            0   \n",
       "13231  19400722   28219108    Entire home/apt            Areeiro            0   \n",
       "\n",
       "       satisfaccion  acomodacion  dormitorios  precio  \n",
       "0               5.0          2.0          1.0    57.0  \n",
       "2               5.0          3.0          1.0    69.0  \n",
       "3               4.5          4.0          1.0    58.0  \n",
       "4               5.0          4.0          1.0    67.0  \n",
       "5               5.0         16.0          9.0  1154.0  \n",
       "...             ...          ...          ...     ...  \n",
       "13227           0.0          6.0          3.0   415.0  \n",
       "13228           0.0          3.0          1.0    50.0  \n",
       "13229           0.0          6.0          4.0   138.0  \n",
       "13230           0.0          4.0          1.0    56.0  \n",
       "13231           0.0          5.0          3.0    75.0  \n",
       "\n",
       "[13230 rows x 9 columns]"
      ]
     },
     "execution_count": 90,
     "metadata": {},
     "output_type": "execute_result"
    }
   ],
   "source": [
    "df_sin_null = df.dropna(subset=[\"acomodacion\", \"dormitorios\"])\n",
    "df_sin_null"
   ]
  },
  {
   "cell_type": "markdown",
   "metadata": {},
   "source": [
    "3. elimine en el dataframe df las filas que tengan satisfaccion en 0. \n",
    "    - muestre el nuevo tamaño .valor 0.2"
   ]
  },
  {
   "cell_type": "code",
   "execution_count": 91,
   "metadata": {},
   "outputs": [
    {
     "data": {
      "text/plain": [
       "(9398, 9)"
      ]
     },
     "execution_count": 91,
     "metadata": {},
     "output_type": "execute_result"
    }
   ],
   "source": [
    "df = df.drop(df[df['satisfaccion']==0].index, axis=0)\n",
    "df.shape"
   ]
  },
  {
   "cell_type": "markdown",
   "metadata": {},
   "source": [
    "4.\n",
    "Imputacion de datos: Reemplazar los valores inexistentes por un valor en particular, pero que está elegido con cierto criterio. Prácticas comunes de imputacion de datos son reemplazar los valores inexistentes de una variable con su media, moda o mediana.\n",
    "- Calcule la mediana de acomodacion y la mediana de dormitorios\n",
    "- En la columna acomodacion reemplace los nulos por la mediana de esa columna\n",
    "- En la columna dormitorios reemplace los nulos por la mediana de esa columna\n",
    "- muestre las primeras 20 filas\n",
    "valor 0.5"
   ]
  },
  {
   "cell_type": "code",
   "execution_count": 92,
   "metadata": {},
   "outputs": [
    {
     "data": {
      "text/html": [
       "<div>\n",
       "<style scoped>\n",
       "    .dataframe tbody tr th:only-of-type {\n",
       "        vertical-align: middle;\n",
       "    }\n",
       "\n",
       "    .dataframe tbody tr th {\n",
       "        vertical-align: top;\n",
       "    }\n",
       "\n",
       "    .dataframe thead th {\n",
       "        text-align: right;\n",
       "    }\n",
       "</style>\n",
       "<table border=\"1\" class=\"dataframe\">\n",
       "  <thead>\n",
       "    <tr style=\"text-align: right;\">\n",
       "      <th></th>\n",
       "      <th>room_id</th>\n",
       "      <th>host_id</th>\n",
       "      <th>tipo_de_habitacion</th>\n",
       "      <th>barrio</th>\n",
       "      <th>comentarios</th>\n",
       "      <th>satisfaccion</th>\n",
       "      <th>acomodacion</th>\n",
       "      <th>dormitorios</th>\n",
       "      <th>precio</th>\n",
       "    </tr>\n",
       "  </thead>\n",
       "  <tbody>\n",
       "    <tr>\n",
       "      <th>0</th>\n",
       "      <td>6499</td>\n",
       "      <td>14455</td>\n",
       "      <td>Entire home/apt</td>\n",
       "      <td>Belém</td>\n",
       "      <td>8</td>\n",
       "      <td>5.0</td>\n",
       "      <td>2.0</td>\n",
       "      <td>1.0</td>\n",
       "      <td>57.0</td>\n",
       "    </tr>\n",
       "    <tr>\n",
       "      <th>1</th>\n",
       "      <td>17031</td>\n",
       "      <td>66015</td>\n",
       "      <td>Entire home/apt</td>\n",
       "      <td>Alvalade</td>\n",
       "      <td>6</td>\n",
       "      <td>1.0</td>\n",
       "      <td>4.0</td>\n",
       "      <td>1.0</td>\n",
       "      <td>46.0</td>\n",
       "    </tr>\n",
       "    <tr>\n",
       "      <th>2</th>\n",
       "      <td>25659</td>\n",
       "      <td>107347</td>\n",
       "      <td>Entire home/apt</td>\n",
       "      <td>Santa Maria Maior</td>\n",
       "      <td>63</td>\n",
       "      <td>5.0</td>\n",
       "      <td>3.0</td>\n",
       "      <td>1.0</td>\n",
       "      <td>69.0</td>\n",
       "    </tr>\n",
       "    <tr>\n",
       "      <th>3</th>\n",
       "      <td>29248</td>\n",
       "      <td>125768</td>\n",
       "      <td>Entire home/apt</td>\n",
       "      <td>Santa Maria Maior</td>\n",
       "      <td>225</td>\n",
       "      <td>4.5</td>\n",
       "      <td>4.0</td>\n",
       "      <td>1.0</td>\n",
       "      <td>58.0</td>\n",
       "    </tr>\n",
       "    <tr>\n",
       "      <th>4</th>\n",
       "      <td>29396</td>\n",
       "      <td>126415</td>\n",
       "      <td>Entire home/apt</td>\n",
       "      <td>Santa Maria Maior</td>\n",
       "      <td>132</td>\n",
       "      <td>5.0</td>\n",
       "      <td>4.0</td>\n",
       "      <td>1.0</td>\n",
       "      <td>67.0</td>\n",
       "    </tr>\n",
       "    <tr>\n",
       "      <th>5</th>\n",
       "      <td>29720</td>\n",
       "      <td>128075</td>\n",
       "      <td>Entire home/apt</td>\n",
       "      <td>Estrela</td>\n",
       "      <td>14</td>\n",
       "      <td>5.0</td>\n",
       "      <td>16.0</td>\n",
       "      <td>9.0</td>\n",
       "      <td>1154.0</td>\n",
       "    </tr>\n",
       "    <tr>\n",
       "      <th>6</th>\n",
       "      <td>29872</td>\n",
       "      <td>128698</td>\n",
       "      <td>Entire home/apt</td>\n",
       "      <td>Alcântara</td>\n",
       "      <td>25</td>\n",
       "      <td>5.0</td>\n",
       "      <td>2.0</td>\n",
       "      <td>1.0</td>\n",
       "      <td>75.0</td>\n",
       "    </tr>\n",
       "    <tr>\n",
       "      <th>7</th>\n",
       "      <td>29891</td>\n",
       "      <td>128792</td>\n",
       "      <td>Entire home/apt</td>\n",
       "      <td>Misericórdia</td>\n",
       "      <td>28</td>\n",
       "      <td>5.0</td>\n",
       "      <td>3.0</td>\n",
       "      <td>1.0</td>\n",
       "      <td>49.0</td>\n",
       "    </tr>\n",
       "    <tr>\n",
       "      <th>8</th>\n",
       "      <td>29915</td>\n",
       "      <td>128890</td>\n",
       "      <td>Entire home/apt</td>\n",
       "      <td>Avenidas Novas</td>\n",
       "      <td>28</td>\n",
       "      <td>4.5</td>\n",
       "      <td>3.0</td>\n",
       "      <td>1.0</td>\n",
       "      <td>58.0</td>\n",
       "    </tr>\n",
       "    <tr>\n",
       "      <th>9</th>\n",
       "      <td>33312</td>\n",
       "      <td>144398</td>\n",
       "      <td>Entire home/apt</td>\n",
       "      <td>Misericórdia</td>\n",
       "      <td>24</td>\n",
       "      <td>4.5</td>\n",
       "      <td>4.0</td>\n",
       "      <td>1.0</td>\n",
       "      <td>66.0</td>\n",
       "    </tr>\n",
       "    <tr>\n",
       "      <th>12</th>\n",
       "      <td>34977</td>\n",
       "      <td>146695</td>\n",
       "      <td>Entire home/apt</td>\n",
       "      <td>Santa Maria Maior</td>\n",
       "      <td>54</td>\n",
       "      <td>4.5</td>\n",
       "      <td>6.0</td>\n",
       "      <td>2.0</td>\n",
       "      <td>60.0</td>\n",
       "    </tr>\n",
       "    <tr>\n",
       "      <th>13</th>\n",
       "      <td>40817</td>\n",
       "      <td>176410</td>\n",
       "      <td>Entire home/apt</td>\n",
       "      <td>Misericórdia</td>\n",
       "      <td>229</td>\n",
       "      <td>4.5</td>\n",
       "      <td>2.0</td>\n",
       "      <td>1.0</td>\n",
       "      <td>52.0</td>\n",
       "    </tr>\n",
       "    <tr>\n",
       "      <th>14</th>\n",
       "      <td>42172</td>\n",
       "      <td>184400</td>\n",
       "      <td>Entire home/apt</td>\n",
       "      <td>Santa Maria Maior</td>\n",
       "      <td>45</td>\n",
       "      <td>4.5</td>\n",
       "      <td>6.0</td>\n",
       "      <td>2.0</td>\n",
       "      <td>138.0</td>\n",
       "    </tr>\n",
       "    <tr>\n",
       "      <th>15</th>\n",
       "      <td>42519</td>\n",
       "      <td>136230</td>\n",
       "      <td>Entire home/apt</td>\n",
       "      <td>Misericórdia</td>\n",
       "      <td>79</td>\n",
       "      <td>4.5</td>\n",
       "      <td>3.0</td>\n",
       "      <td>1.0</td>\n",
       "      <td>87.0</td>\n",
       "    </tr>\n",
       "    <tr>\n",
       "      <th>16</th>\n",
       "      <td>44043</td>\n",
       "      <td>192830</td>\n",
       "      <td>Entire home/apt</td>\n",
       "      <td>Santa Maria Maior</td>\n",
       "      <td>316</td>\n",
       "      <td>5.0</td>\n",
       "      <td>7.0</td>\n",
       "      <td>1.0</td>\n",
       "      <td>80.0</td>\n",
       "    </tr>\n",
       "    <tr>\n",
       "      <th>17</th>\n",
       "      <td>46567</td>\n",
       "      <td>208343</td>\n",
       "      <td>Private room</td>\n",
       "      <td>Avenidas Novas</td>\n",
       "      <td>3</td>\n",
       "      <td>5.0</td>\n",
       "      <td>2.0</td>\n",
       "      <td>1.0</td>\n",
       "      <td>39.0</td>\n",
       "    </tr>\n",
       "    <tr>\n",
       "      <th>18</th>\n",
       "      <td>47717</td>\n",
       "      <td>217058</td>\n",
       "      <td>Entire home/apt</td>\n",
       "      <td>Santa Maria Maior</td>\n",
       "      <td>70</td>\n",
       "      <td>4.5</td>\n",
       "      <td>3.0</td>\n",
       "      <td>1.0</td>\n",
       "      <td>57.0</td>\n",
       "    </tr>\n",
       "    <tr>\n",
       "      <th>19</th>\n",
       "      <td>50108</td>\n",
       "      <td>229376</td>\n",
       "      <td>Entire home/apt</td>\n",
       "      <td>Estrela</td>\n",
       "      <td>33</td>\n",
       "      <td>4.5</td>\n",
       "      <td>4.0</td>\n",
       "      <td>1.0</td>\n",
       "      <td>69.0</td>\n",
       "    </tr>\n",
       "    <tr>\n",
       "      <th>21</th>\n",
       "      <td>56906</td>\n",
       "      <td>270457</td>\n",
       "      <td>Entire home/apt</td>\n",
       "      <td>São Vicente</td>\n",
       "      <td>86</td>\n",
       "      <td>4.5</td>\n",
       "      <td>3.0</td>\n",
       "      <td>1.0</td>\n",
       "      <td>52.0</td>\n",
       "    </tr>\n",
       "    <tr>\n",
       "      <th>22</th>\n",
       "      <td>57850</td>\n",
       "      <td>276092</td>\n",
       "      <td>Entire home/apt</td>\n",
       "      <td>Estrela</td>\n",
       "      <td>52</td>\n",
       "      <td>4.5</td>\n",
       "      <td>3.0</td>\n",
       "      <td>2.0</td>\n",
       "      <td>70.0</td>\n",
       "    </tr>\n",
       "  </tbody>\n",
       "</table>\n",
       "</div>"
      ],
      "text/plain": [
       "    room_id  host_id tipo_de_habitacion             barrio  comentarios  \\\n",
       "0      6499    14455    Entire home/apt              Belém            8   \n",
       "1     17031    66015    Entire home/apt           Alvalade            6   \n",
       "2     25659   107347    Entire home/apt  Santa Maria Maior           63   \n",
       "3     29248   125768    Entire home/apt  Santa Maria Maior          225   \n",
       "4     29396   126415    Entire home/apt  Santa Maria Maior          132   \n",
       "5     29720   128075    Entire home/apt            Estrela           14   \n",
       "6     29872   128698    Entire home/apt          Alcântara           25   \n",
       "7     29891   128792    Entire home/apt       Misericórdia           28   \n",
       "8     29915   128890    Entire home/apt     Avenidas Novas           28   \n",
       "9     33312   144398    Entire home/apt       Misericórdia           24   \n",
       "12    34977   146695    Entire home/apt  Santa Maria Maior           54   \n",
       "13    40817   176410    Entire home/apt       Misericórdia          229   \n",
       "14    42172   184400    Entire home/apt  Santa Maria Maior           45   \n",
       "15    42519   136230    Entire home/apt       Misericórdia           79   \n",
       "16    44043   192830    Entire home/apt  Santa Maria Maior          316   \n",
       "17    46567   208343       Private room     Avenidas Novas            3   \n",
       "18    47717   217058    Entire home/apt  Santa Maria Maior           70   \n",
       "19    50108   229376    Entire home/apt            Estrela           33   \n",
       "21    56906   270457    Entire home/apt        São Vicente           86   \n",
       "22    57850   276092    Entire home/apt            Estrela           52   \n",
       "\n",
       "    satisfaccion  acomodacion  dormitorios  precio  \n",
       "0            5.0          2.0          1.0    57.0  \n",
       "1            1.0          4.0          1.0    46.0  \n",
       "2            5.0          3.0          1.0    69.0  \n",
       "3            4.5          4.0          1.0    58.0  \n",
       "4            5.0          4.0          1.0    67.0  \n",
       "5            5.0         16.0          9.0  1154.0  \n",
       "6            5.0          2.0          1.0    75.0  \n",
       "7            5.0          3.0          1.0    49.0  \n",
       "8            4.5          3.0          1.0    58.0  \n",
       "9            4.5          4.0          1.0    66.0  \n",
       "12           4.5          6.0          2.0    60.0  \n",
       "13           4.5          2.0          1.0    52.0  \n",
       "14           4.5          6.0          2.0   138.0  \n",
       "15           4.5          3.0          1.0    87.0  \n",
       "16           5.0          7.0          1.0    80.0  \n",
       "17           5.0          2.0          1.0    39.0  \n",
       "18           4.5          3.0          1.0    57.0  \n",
       "19           4.5          4.0          1.0    69.0  \n",
       "21           4.5          3.0          1.0    52.0  \n",
       "22           4.5          3.0          2.0    70.0  "
      ]
     },
     "execution_count": 92,
     "metadata": {},
     "output_type": "execute_result"
    }
   ],
   "source": [
    "mediana_acomodacion = df['acomodacion'].median()\n",
    "mediana_dormitorios = df['dormitorios'].median()\n",
    "df.loc[:,'acomodacion'] = df.loc[:,'acomodacion'].fillna(mediana_acomodacion)\n",
    "df.loc[:,'dormitorios'] = df.loc[:,'dormitorios'].fillna(mediana_dormitorios)\n",
    "df.head(20)"
   ]
  },
  {
   "cell_type": "markdown",
   "metadata": {},
   "source": [
    "### Tambien es importante dejar las columnas que nos sirven para realizar el modelo de predicción\n",
    "#### Valor 0.3"
   ]
  },
  {
   "cell_type": "markdown",
   "metadata": {},
   "source": [
    "- Elimine las columnas \"room_id\", \"host_id\", \"barrio\"\n",
    "- muestre las prieras 5 filas"
   ]
  },
  {
   "cell_type": "code",
   "execution_count": 93,
   "metadata": {},
   "outputs": [
    {
     "data": {
      "text/html": [
       "<div>\n",
       "<style scoped>\n",
       "    .dataframe tbody tr th:only-of-type {\n",
       "        vertical-align: middle;\n",
       "    }\n",
       "\n",
       "    .dataframe tbody tr th {\n",
       "        vertical-align: top;\n",
       "    }\n",
       "\n",
       "    .dataframe thead th {\n",
       "        text-align: right;\n",
       "    }\n",
       "</style>\n",
       "<table border=\"1\" class=\"dataframe\">\n",
       "  <thead>\n",
       "    <tr style=\"text-align: right;\">\n",
       "      <th></th>\n",
       "      <th>tipo_de_habitacion</th>\n",
       "      <th>comentarios</th>\n",
       "      <th>satisfaccion</th>\n",
       "      <th>acomodacion</th>\n",
       "      <th>dormitorios</th>\n",
       "      <th>precio</th>\n",
       "    </tr>\n",
       "  </thead>\n",
       "  <tbody>\n",
       "    <tr>\n",
       "      <th>0</th>\n",
       "      <td>Entire home/apt</td>\n",
       "      <td>8</td>\n",
       "      <td>5.0</td>\n",
       "      <td>2.0</td>\n",
       "      <td>1.0</td>\n",
       "      <td>57.0</td>\n",
       "    </tr>\n",
       "    <tr>\n",
       "      <th>1</th>\n",
       "      <td>Entire home/apt</td>\n",
       "      <td>6</td>\n",
       "      <td>1.0</td>\n",
       "      <td>4.0</td>\n",
       "      <td>1.0</td>\n",
       "      <td>46.0</td>\n",
       "    </tr>\n",
       "    <tr>\n",
       "      <th>2</th>\n",
       "      <td>Entire home/apt</td>\n",
       "      <td>63</td>\n",
       "      <td>5.0</td>\n",
       "      <td>3.0</td>\n",
       "      <td>1.0</td>\n",
       "      <td>69.0</td>\n",
       "    </tr>\n",
       "    <tr>\n",
       "      <th>3</th>\n",
       "      <td>Entire home/apt</td>\n",
       "      <td>225</td>\n",
       "      <td>4.5</td>\n",
       "      <td>4.0</td>\n",
       "      <td>1.0</td>\n",
       "      <td>58.0</td>\n",
       "    </tr>\n",
       "    <tr>\n",
       "      <th>4</th>\n",
       "      <td>Entire home/apt</td>\n",
       "      <td>132</td>\n",
       "      <td>5.0</td>\n",
       "      <td>4.0</td>\n",
       "      <td>1.0</td>\n",
       "      <td>67.0</td>\n",
       "    </tr>\n",
       "  </tbody>\n",
       "</table>\n",
       "</div>"
      ],
      "text/plain": [
       "  tipo_de_habitacion  comentarios  satisfaccion  acomodacion  dormitorios  \\\n",
       "0    Entire home/apt            8           5.0          2.0          1.0   \n",
       "1    Entire home/apt            6           1.0          4.0          1.0   \n",
       "2    Entire home/apt           63           5.0          3.0          1.0   \n",
       "3    Entire home/apt          225           4.5          4.0          1.0   \n",
       "4    Entire home/apt          132           5.0          4.0          1.0   \n",
       "\n",
       "   precio  \n",
       "0    57.0  \n",
       "1    46.0  \n",
       "2    69.0  \n",
       "3    58.0  \n",
       "4    67.0  "
      ]
     },
     "execution_count": 93,
     "metadata": {},
     "output_type": "execute_result"
    }
   ],
   "source": [
    "df = df.drop(['room_id', 'host_id', 'barrio'], axis=1)\n",
    "df.head()"
   ]
  },
  {
   "cell_type": "markdown",
   "metadata": {},
   "source": [
    "- Convierta a variables dummy a la columna \"tipo_de habitacion\" coloque como prefijo la palabra \"tipo\"\n",
    "- muestre las primeras 5 filas. valor 0.5"
   ]
  },
  {
   "cell_type": "code",
   "execution_count": 94,
   "metadata": {},
   "outputs": [
    {
     "data": {
      "text/html": [
       "<div>\n",
       "<style scoped>\n",
       "    .dataframe tbody tr th:only-of-type {\n",
       "        vertical-align: middle;\n",
       "    }\n",
       "\n",
       "    .dataframe tbody tr th {\n",
       "        vertical-align: top;\n",
       "    }\n",
       "\n",
       "    .dataframe thead th {\n",
       "        text-align: right;\n",
       "    }\n",
       "</style>\n",
       "<table border=\"1\" class=\"dataframe\">\n",
       "  <thead>\n",
       "    <tr style=\"text-align: right;\">\n",
       "      <th></th>\n",
       "      <th>tipo_Private room</th>\n",
       "      <th>tipo_Shared room</th>\n",
       "      <th>comentarios</th>\n",
       "      <th>satisfaccion</th>\n",
       "      <th>acomodacion</th>\n",
       "      <th>dormitorios</th>\n",
       "      <th>precio</th>\n",
       "    </tr>\n",
       "  </thead>\n",
       "  <tbody>\n",
       "    <tr>\n",
       "      <th>0</th>\n",
       "      <td>0</td>\n",
       "      <td>0</td>\n",
       "      <td>8</td>\n",
       "      <td>5.0</td>\n",
       "      <td>2.0</td>\n",
       "      <td>1.0</td>\n",
       "      <td>57.0</td>\n",
       "    </tr>\n",
       "    <tr>\n",
       "      <th>1</th>\n",
       "      <td>0</td>\n",
       "      <td>0</td>\n",
       "      <td>6</td>\n",
       "      <td>1.0</td>\n",
       "      <td>4.0</td>\n",
       "      <td>1.0</td>\n",
       "      <td>46.0</td>\n",
       "    </tr>\n",
       "    <tr>\n",
       "      <th>2</th>\n",
       "      <td>0</td>\n",
       "      <td>0</td>\n",
       "      <td>63</td>\n",
       "      <td>5.0</td>\n",
       "      <td>3.0</td>\n",
       "      <td>1.0</td>\n",
       "      <td>69.0</td>\n",
       "    </tr>\n",
       "    <tr>\n",
       "      <th>3</th>\n",
       "      <td>0</td>\n",
       "      <td>0</td>\n",
       "      <td>225</td>\n",
       "      <td>4.5</td>\n",
       "      <td>4.0</td>\n",
       "      <td>1.0</td>\n",
       "      <td>58.0</td>\n",
       "    </tr>\n",
       "    <tr>\n",
       "      <th>4</th>\n",
       "      <td>0</td>\n",
       "      <td>0</td>\n",
       "      <td>132</td>\n",
       "      <td>5.0</td>\n",
       "      <td>4.0</td>\n",
       "      <td>1.0</td>\n",
       "      <td>67.0</td>\n",
       "    </tr>\n",
       "  </tbody>\n",
       "</table>\n",
       "</div>"
      ],
      "text/plain": [
       "   tipo_Private room  tipo_Shared room  comentarios  satisfaccion  \\\n",
       "0                  0                 0            8           5.0   \n",
       "1                  0                 0            6           1.0   \n",
       "2                  0                 0           63           5.0   \n",
       "3                  0                 0          225           4.5   \n",
       "4                  0                 0          132           5.0   \n",
       "\n",
       "   acomodacion  dormitorios  precio  \n",
       "0          2.0          1.0    57.0  \n",
       "1          4.0          1.0    46.0  \n",
       "2          3.0          1.0    69.0  \n",
       "3          4.0          1.0    58.0  \n",
       "4          4.0          1.0    67.0  "
      ]
     },
     "execution_count": 94,
     "metadata": {},
     "output_type": "execute_result"
    }
   ],
   "source": [
    "df_tipo = pd.get_dummies(df['tipo_de_habitacion'], 'tipo')\n",
    "df_tipo = df_tipo.drop('tipo_Entire home/apt', axis=1)\n",
    "df = pd.concat([df_tipo, df.drop('tipo_de_habitacion', axis=1)], axis=1)\n",
    "df.head()"
   ]
  },
  {
   "cell_type": "markdown",
   "metadata": {},
   "source": [
    "### Graficación\n",
    "#### Valor 0.3\n"
   ]
  },
  {
   "cell_type": "markdown",
   "metadata": {},
   "source": [
    "-  Realice un diagrama de dispersion entre satisfaccion y la variable precio"
   ]
  },
  {
   "cell_type": "code",
   "execution_count": 95,
   "metadata": {},
   "outputs": [
    {
     "data": {
      "image/png": "[encoded data removed]",
      "text/plain": [
       "<Figure size 432x288 with 1 Axes>"
      ]
     },
     "metadata": {
      "needs_background": "light"
     },
     "output_type": "display_data"
    }
   ],
   "source": [
    "fig, ax = plt.subplots()\n",
    "ax.scatter(df['satisfaccion'], df['precio'], edgecolors=(0, 0, 1))\n",
    "plt.show()"
   ]
  },
  {
   "cell_type": "markdown",
   "metadata": {},
   "source": [
    "### Modelamiento\n",
    "#### Valor 1.5"
   ]
  },
  {
   "cell_type": "markdown",
   "metadata": {},
   "source": [
    "- la variable dependiente es precio\n",
    "- las variables independientes son las demas : tipo_Private room, tipo_Shared room, comentarios, satisfaccion, acomodacion, dormitorios\n",
    "- Divida el set de entrenamiento y de prueba en 80% y 20% respectivamente\n",
    "- Realice el ajuste del modelo de regresion lineal \n",
    "- Realice la prediccion del modelo y genere una variable de prediccion llamada y_pred\n"
   ]
  },
  {
   "cell_type": "code",
   "execution_count": 96,
   "metadata": {},
   "outputs": [
    {
     "data": {
      "text/plain": [
       "tipo_Private room     0\n",
       "tipo_Shared room      0\n",
       "comentarios           0\n",
       "satisfaccion         10\n",
       "acomodacion           0\n",
       "dormitorios           0\n",
       "precio                0\n",
       "dtype: int64"
      ]
     },
     "execution_count": 96,
     "metadata": {},
     "output_type": "execute_result"
    }
   ],
   "source": [
    "#Verificar si existen valores NaN\n",
    "df.isnull().sum()"
   ]
  },
  {
   "cell_type": "code",
   "execution_count": 97,
   "metadata": {},
   "outputs": [
    {
     "data": {
      "text/plain": [
       "tipo_Private room    0\n",
       "tipo_Shared room     0\n",
       "comentarios          0\n",
       "satisfaccion         0\n",
       "acomodacion          0\n",
       "dormitorios          0\n",
       "precio               0\n",
       "dtype: int64"
      ]
     },
     "execution_count": 97,
     "metadata": {},
     "output_type": "execute_result"
    }
   ],
   "source": [
    "#Eliminar valores NaN\n",
    "df = df.dropna()\n",
    "#Comprobar si fueron eliminados\n",
    "df.isnull().sum()"
   ]
  },
  {
   "cell_type": "code",
   "execution_count": 98,
   "metadata": {},
   "outputs": [],
   "source": [
    "#Variables independientes\n",
    "x_in = df.iloc[:, :-1]\n",
    "#Variable dependiente\n",
    "y_in = df.iloc[:, 6:7]"
   ]
  },
  {
   "cell_type": "code",
   "execution_count": 99,
   "metadata": {},
   "outputs": [],
   "source": [
    "#Dividir el set en entrenamiento y prueba\n",
    "x_train, x_test, y_train, y_test = train_test_split(x_in, y_in, train_size=0.8 , test_size=0.2)"
   ]
  },
  {
   "cell_type": "code",
   "execution_count": 75,
   "metadata": {},
   "outputs": [
    {
     "data": {
      "text/plain": [
       "LinearRegression()"
      ]
     },
     "execution_count": 75,
     "metadata": {},
     "output_type": "execute_result"
    }
   ],
   "source": [
    "#Realizar ajuste correspondiente\n",
    "lrmodel = linear_model.LinearRegression()\n",
    "lrmodel.fit(x_train, y_train)"
   ]
  },
  {
   "cell_type": "code",
   "execution_count": 76,
   "metadata": {},
   "outputs": [],
   "source": [
    "#Realizando la predicción\n",
    "y_pred_train = lrmodel.predict(x_train)"
   ]
  },
  {
   "cell_type": "code",
   "execution_count": 77,
   "metadata": {},
   "outputs": [],
   "source": [
    "#Encontrando el score\n",
    "score = cross_val_score(lrmodel, x_in, y_in, cv=10, scoring=\"r2\")"
   ]
  },
  {
   "cell_type": "code",
   "execution_count": 78,
   "metadata": {},
   "outputs": [],
   "source": [
    "#Predicción de validación cruzada\n",
    "y_pred_val_cross = cross_val_predict(lrmodel, x_train, y_train, cv=10)"
   ]
  },
  {
   "cell_type": "markdown",
   "metadata": {},
   "source": [
    "### Evaluacion \n"
   ]
  },
  {
   "cell_type": "markdown",
   "metadata": {},
   "source": [
    "Evalue el modelo utilizando la metrica de r cuadrado"
   ]
  },
  {
   "cell_type": "code",
   "execution_count": 79,
   "metadata": {},
   "outputs": [
    {
     "data": {
      "text/plain": [
       "0.1504097689251439"
      ]
     },
     "execution_count": 79,
     "metadata": {},
     "output_type": "execute_result"
    }
   ],
   "source": [
    "r2_train = r2_score(y_train, y_pred_train)\n",
    "r2_train"
   ]
  },
  {
   "cell_type": "code",
   "execution_count": 80,
   "metadata": {},
   "outputs": [
    {
     "data": {
      "text/plain": [
       "0.14839351638539133"
      ]
     },
     "execution_count": 80,
     "metadata": {},
     "output_type": "execute_result"
    }
   ],
   "source": [
    "r2_cv = r2_score(y_train, y_pred_val_cross)\n",
    "r2_cv"
   ]
  },
  {
   "cell_type": "code",
   "execution_count": 81,
   "metadata": {},
   "outputs": [
    {
     "data": {
      "image/png": "[encoded data removed]",
      "text/plain": [
       "<Figure size 432x288 with 1 Axes>"
      ]
     },
     "metadata": {
      "needs_background": "light"
     },
     "output_type": "display_data"
    }
   ],
   "source": [
    "#Diagrama de dispersion\n",
    "fig, ax = plt.subplots()\n",
    "ax.scatter(y_train, y_pred_val_cross, edgecolors=(0, 0, 0))\n",
    "ax.plot([y_m.min(), y_m.max()], [y_m.min(), y_m.max()], 'y--', linewidth=4)\n",
    "ax.set_xlabel('Medido')\n",
    "ax.set_ylabel('Predecido')\n",
    "plt.show()"
   ]
  },
  {
   "cell_type": "code",
   "execution_count": null,
   "metadata": {},
   "outputs": [],
   "source": [
    "Conclusión: Considero que el modelo aplicado no es el apropiado para realizar la predición requerida en este conjuno de datos. "
   ]
  }
 ],
 "metadata": {
  "kernelspec": {
   "display_name": "Python 3 (ipykernel)",
   "language": "python",
   "name": "python3"
  },
  "language_info": {
   "codemirror_mode": {
    "name": "ipython",
    "version": 3
   },
   "file_extension": ".py",
   "mimetype": "text/x-python",
   "name": "python",
   "nbconvert_exporter": "python",
   "pygments_lexer": "ipython3",
   "version": "3.9.7"
  }
 },
 "nbformat": 4,
 "nbformat_minor": 2
}
